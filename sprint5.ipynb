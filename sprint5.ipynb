{
 "cells": [
  {
   "cell_type": "markdown",
   "metadata": {},
   "source": [
    "¡Hola, Aldo!\n",
    "\n",
    "Mi nombre es Tonatiuh Cruz. Me complace revisar tu proyecto hoy.\n",
    "\n",
    "Al identificar cualquier error inicialmente, simplemente los destacaré. Te animo a localizar y abordar los problemas de forma independiente como parte de tu preparación para un rol como data-analyst. En un entorno profesional, tu líder de equipo seguiría un enfoque similar. Si encuentras la tarea desafiante, proporcionaré una pista más específica en la próxima iteración.\n",
    "\n",
    "Encontrarás mis comentarios a continuación - **por favor no los muevas, modifiques o elimines**.\n",
    "\n",
    "Puedes encontrar mis comentarios en cajas verdes, amarillas o rojas como esta:\n",
    "\n",
    "<div class=\"alert alert-block alert-success\">\n",
    "<b>Comentario del revisor</b> <a class=\"tocSkip\"></a>\n",
    "\n",
    "Éxito. Todo está hecho correctamente.\n",
    "</div>\n",
    "\n",
    "<div class=\"alert alert-block alert-warning\">\n",
    "<b>Comentario del revisor</b> <a class=\"tocSkip\"></a>\n",
    "\n",
    "Observaciones. Algunas recomendaciones.\n",
    "</div>\n",
    "\n",
    "<div class=\"alert alert-block alert-danger\">\n",
    "<b>Comentario del revisor</b> <a class=\"tocSkip\"></a>\n",
    "\n",
    "Necesita corrección. El bloque requiere algunas correcciones. El trabajo no puede ser aceptado con comentarios en rojo.\n",
    "</div>\n",
    "\n",
    "Puedes responderme utilizando esto:\n",
    "\n",
    "<div class=\"alert alert-block alert-info\">\n",
    "<b>Respuesta del estudiante.</b> <a class=\"tocSkip\"></a>"
   ]
  },
  {
   "cell_type": "markdown",
   "metadata": {},
   "source": [
    "<div class=\"alert alert-block alert-success\">\n",
    "<b>Resumen de la revisión 1</b> <a class=\"tocSkip\"></a>\n",
    "\n",
    "Hola Aldo! Has hecho un excelente trabajo con el proyecto, cada vez más cercas de convertirte en un analista de datos. Realizaste la carga de bases, su análisis inicial, sus ajustes, un análisis de algunos variables conmplementado con gráficas y el desarrollo de las pruebas d ehipótesis. Solamente te dejo algunos comentarios para complementar el análisis. \n",
    "\n",
    "Sigue con el excelente trabajo!\n",
    "</div>"
   ]
  },
  {
   "cell_type": "markdown",
   "metadata": {
    "id": "3rYiDeEH0q0f"
   },
   "source": [
    "# ¿Cuál es la mejor tarifa?\n",
    "\n",
    "Trabajas como analista para el operador de telecomunicaciones Megaline. La empresa ofrece a sus clientes dos tarifas de prepago, Surf y Ultimate. El departamento comercial quiere saber cuál de las tarifas genera más ingresos para poder ajustar el presupuesto de publicidad.\n",
    "\n",
    "Vas a realizar un análisis preliminar de las tarifas basado en una selección de clientes relativamente pequeña. Tendrás los datos de 500 clientes de Megaline: quiénes son los clientes, de dónde son, qué tarifa usan, así como la cantidad de llamadas que hicieron y los mensajes de texto que enviaron en 2018. Tu trabajo es analizar el comportamiento de los clientes y determinar qué tarifa de prepago genera más ingresos."
   ]
  },
  {
   "cell_type": "markdown",
   "metadata": {
    "id": "VNddPNRQ0q0w"
   },
   "source": [
    "[Te proporcionamos algunos comentarios para orientarte mientras completas este proyecto. Pero debes asegurarte de eliminar todos los comentarios entre corchetes antes de entregar tu proyecto.]\n",
    "\n",
    "[Antes de sumergirte en el análisis de datos, explica por tu propia cuenta el propósito del proyecto y las acciones que planeas realizar.]\n",
    "\n",
    "[Ten en cuenta que estudiar, modificar y analizar datos es un proceso iterativo. Es normal volver a los pasos anteriores y corregirlos/ampliarlos para permitir nuevos pasos.]"
   ]
  },
  {
   "cell_type": "markdown",
   "metadata": {
    "id": "MQi4IPy70q0y"
   },
   "source": [
    "## Inicialización"
   ]
  },
  {
   "cell_type": "code",
   "execution_count": 1,
   "metadata": {
    "id": "MtYIuBxu0q0z"
   },
   "outputs": [],
   "source": [
    "# Cargar todas las librerías\n",
    "import pandas as pd\n",
    "import numpy as np\n",
    "import matplotlib.pyplot as plt\n",
    "import math\n",
    "from scipy.stats import ttest_ind"
   ]
  },
  {
   "cell_type": "markdown",
   "metadata": {},
   "source": [
    "<div class=\"alert alert-block alert-warning\">\n",
    "<b>Comentario revisor</b> <a class=\"tocSkip\"></a>\n",
    "\n",
    "\n",
    "Recomiendo cargar la libreria math. De esta manera, puedes realizar redondeos con otros métodos. \n",
    "</div>"
   ]
  },
  {
   "cell_type": "markdown",
   "metadata": {},
   "source": [
    "<div class=\"alert alert-block alert-success\">\n",
    "<b>Comentario revisor</b> <a class=\"tocSkip\"></a>\n",
    "\n",
    "Excelente trabajo con el ajuste!"
   ]
  },
  {
   "cell_type": "markdown",
   "metadata": {
    "id": "4ysWWC5i0q00"
   },
   "source": [
    "## Cargar datos"
   ]
  },
  {
   "cell_type": "code",
   "execution_count": 2,
   "metadata": {
    "id": "CCqPW7rS0q01"
   },
   "outputs": [],
   "source": [
    "# Carga los archivos de datos en diferentes DataFrames\n",
    "df_usuarios = pd.read_csv(\"megaline_users.csv\")\n",
    "df_llamadas = pd.read_csv(\"megaline_calls.csv\")\n",
    "df_mensajes = pd.read_csv(\"megaline_messages.csv\")\n",
    "df_internet = pd.read_csv(\"megaline_internet.csv\")\n",
    "df_tarifas = pd.read_csv(\"megaline_plans.csv\")"
   ]
  },
  {
   "cell_type": "markdown",
   "metadata": {
    "id": "69qqoJ3r0q01"
   },
   "source": [
    "## Preparar los datos"
   ]
  },
  {
   "cell_type": "markdown",
   "metadata": {
    "id": "vUuZw80S0q01"
   },
   "source": [
    "[Los datos para este proyecto se dividen en varias tablas. Explora cada una para tener una comprensión inicial de los datos. Si es necesario, haz las correcciones requeridas en cada tabla.]"
   ]
  },
  {
   "cell_type": "markdown",
   "metadata": {
    "id": "ohBhimvH0q01"
   },
   "source": [
    "## Tarifas"
   ]
  },
  {
   "cell_type": "code",
   "execution_count": 3,
   "metadata": {
    "id": "GptqP3Q40q02"
   },
   "outputs": [
    {
     "name": "stdout",
     "output_type": "stream",
     "text": [
      "<class 'pandas.core.frame.DataFrame'>\n",
      "RangeIndex: 2 entries, 0 to 1\n",
      "Data columns (total 8 columns):\n",
      " #   Column                 Non-Null Count  Dtype  \n",
      "---  ------                 --------------  -----  \n",
      " 0   messages_included      2 non-null      int64  \n",
      " 1   mb_per_month_included  2 non-null      int64  \n",
      " 2   minutes_included       2 non-null      int64  \n",
      " 3   usd_monthly_pay        2 non-null      int64  \n",
      " 4   usd_per_gb             2 non-null      int64  \n",
      " 5   usd_per_message        2 non-null      float64\n",
      " 6   usd_per_minute         2 non-null      float64\n",
      " 7   plan_name              2 non-null      object \n",
      "dtypes: float64(2), int64(5), object(1)\n",
      "memory usage: 256.0+ bytes\n"
     ]
    }
   ],
   "source": [
    "# Imprime la información general/resumida sobre el DataFrame de las tarifas\n",
    "df_tarifas.info()"
   ]
  },
  {
   "cell_type": "code",
   "execution_count": 4,
   "metadata": {
    "id": "64xzjwL70q02"
   },
   "outputs": [
    {
     "data": {
      "text/html": [
       "<div>\n",
       "<style scoped>\n",
       "    .dataframe tbody tr th:only-of-type {\n",
       "        vertical-align: middle;\n",
       "    }\n",
       "\n",
       "    .dataframe tbody tr th {\n",
       "        vertical-align: top;\n",
       "    }\n",
       "\n",
       "    .dataframe thead th {\n",
       "        text-align: right;\n",
       "    }\n",
       "</style>\n",
       "<table border=\"1\" class=\"dataframe\">\n",
       "  <thead>\n",
       "    <tr style=\"text-align: right;\">\n",
       "      <th></th>\n",
       "      <th>messages_included</th>\n",
       "      <th>mb_per_month_included</th>\n",
       "      <th>minutes_included</th>\n",
       "      <th>usd_monthly_pay</th>\n",
       "      <th>usd_per_gb</th>\n",
       "      <th>usd_per_message</th>\n",
       "      <th>usd_per_minute</th>\n",
       "      <th>plan_name</th>\n",
       "    </tr>\n",
       "  </thead>\n",
       "  <tbody>\n",
       "    <tr>\n",
       "      <th>0</th>\n",
       "      <td>50</td>\n",
       "      <td>15360</td>\n",
       "      <td>500</td>\n",
       "      <td>20</td>\n",
       "      <td>10</td>\n",
       "      <td>0.03</td>\n",
       "      <td>0.03</td>\n",
       "      <td>surf</td>\n",
       "    </tr>\n",
       "    <tr>\n",
       "      <th>1</th>\n",
       "      <td>1000</td>\n",
       "      <td>30720</td>\n",
       "      <td>3000</td>\n",
       "      <td>70</td>\n",
       "      <td>7</td>\n",
       "      <td>0.01</td>\n",
       "      <td>0.01</td>\n",
       "      <td>ultimate</td>\n",
       "    </tr>\n",
       "  </tbody>\n",
       "</table>\n",
       "</div>"
      ],
      "text/plain": [
       "   messages_included  mb_per_month_included  minutes_included  \\\n",
       "0                 50                  15360               500   \n",
       "1               1000                  30720              3000   \n",
       "\n",
       "   usd_monthly_pay  usd_per_gb  usd_per_message  usd_per_minute plan_name  \n",
       "0               20          10             0.03            0.03      surf  \n",
       "1               70           7             0.01            0.01  ultimate  "
      ]
     },
     "execution_count": 4,
     "metadata": {},
     "output_type": "execute_result"
    }
   ],
   "source": [
    "# Imprime una muestra de los datos para las tarifas\n",
    "df_tarifas"
   ]
  },
  {
   "cell_type": "markdown",
   "metadata": {
    "id": "mEc_3_hs0q02"
   },
   "source": [
    "[Describe lo que ves y observas en la información general y en la muestra de datos impresa para el precio de datos anterior. ¿Hay algún problema (tipos de datos no adecuados, datos ausentes, etc.) que pudieran necesitar investigación y cambios adicionales? ¿Cómo se puede arreglar?]  \n",
    "\n",
    "*R.- El DataFrame se compone únicamente de 2 registros. No hay valores nulos. Las columnas usd_monthly_pay y usd_per_gb, al representar cantidades monetarias, es recomendable que almacenen valores de tipo float (igual que las columnas usd_per_message y usd_per_minute).*"
   ]
  },
  {
   "cell_type": "markdown",
   "metadata": {
    "id": "R3C05i1l0q03"
   },
   "source": [
    "## Corregir datos"
   ]
  },
  {
   "cell_type": "markdown",
   "metadata": {
    "id": "bIi8StZI0q03"
   },
   "source": [
    "[Corrige los problemas obvios con los datos basándote en las observaciones iniciales.]"
   ]
  },
  {
   "cell_type": "code",
   "execution_count": 5,
   "metadata": {
    "id": "Y7SVmjGn0q03"
   },
   "outputs": [],
   "source": [
    "df_tarifas[[\"usd_per_gb\", \"usd_monthly_pay\"]] = df_tarifas[[\"usd_per_gb\", \"usd_monthly_pay\"]].astype(float)"
   ]
  },
  {
   "cell_type": "markdown",
   "metadata": {
    "id": "LJir7bml0q03"
   },
   "source": [
    "## Enriquecer los datos"
   ]
  },
  {
   "cell_type": "markdown",
   "metadata": {
    "id": "eqADpCfg0q04"
   },
   "source": [
    "[Agrega factores adicionales a los datos si crees que pudieran ser útiles.]"
   ]
  },
  {
   "cell_type": "code",
   "execution_count": 6,
   "metadata": {
    "id": "gfcIEuXV0q04"
   },
   "outputs": [
    {
     "data": {
      "text/html": [
       "<div>\n",
       "<style scoped>\n",
       "    .dataframe tbody tr th:only-of-type {\n",
       "        vertical-align: middle;\n",
       "    }\n",
       "\n",
       "    .dataframe tbody tr th {\n",
       "        vertical-align: top;\n",
       "    }\n",
       "\n",
       "    .dataframe thead th {\n",
       "        text-align: right;\n",
       "    }\n",
       "</style>\n",
       "<table border=\"1\" class=\"dataframe\">\n",
       "  <thead>\n",
       "    <tr style=\"text-align: right;\">\n",
       "      <th></th>\n",
       "      <th>messages_included</th>\n",
       "      <th>gb_per_month_included</th>\n",
       "      <th>minutes_included</th>\n",
       "      <th>usd_monthly_pay</th>\n",
       "      <th>usd_per_gb</th>\n",
       "      <th>usd_per_message</th>\n",
       "      <th>usd_per_minute</th>\n",
       "      <th>plan_name</th>\n",
       "    </tr>\n",
       "  </thead>\n",
       "  <tbody>\n",
       "    <tr>\n",
       "      <th>0</th>\n",
       "      <td>50</td>\n",
       "      <td>15.0</td>\n",
       "      <td>500</td>\n",
       "      <td>20.0</td>\n",
       "      <td>10.0</td>\n",
       "      <td>0.03</td>\n",
       "      <td>0.03</td>\n",
       "      <td>surf</td>\n",
       "    </tr>\n",
       "    <tr>\n",
       "      <th>1</th>\n",
       "      <td>1000</td>\n",
       "      <td>30.0</td>\n",
       "      <td>3000</td>\n",
       "      <td>70.0</td>\n",
       "      <td>7.0</td>\n",
       "      <td>0.01</td>\n",
       "      <td>0.01</td>\n",
       "      <td>ultimate</td>\n",
       "    </tr>\n",
       "  </tbody>\n",
       "</table>\n",
       "</div>"
      ],
      "text/plain": [
       "   messages_included  gb_per_month_included  minutes_included  \\\n",
       "0                 50                   15.0               500   \n",
       "1               1000                   30.0              3000   \n",
       "\n",
       "   usd_monthly_pay  usd_per_gb  usd_per_message  usd_per_minute plan_name  \n",
       "0             20.0        10.0             0.03            0.03      surf  \n",
       "1             70.0         7.0             0.01            0.01  ultimate  "
      ]
     },
     "execution_count": 6,
     "metadata": {},
     "output_type": "execute_result"
    }
   ],
   "source": [
    "# Cambia el nombre de la columna \"mb_per_month_included\" a \"gb_per_month_included\" y convierte los mb a gb.\n",
    "df_tarifas.rename(columns={\"mb_per_month_included\": \"gb_per_month_included\"}, inplace=True)\n",
    "df_tarifas[\"gb_per_month_included\"] = df_tarifas[\"gb_per_month_included\"] / 1024\n",
    "df_tarifas"
   ]
  },
  {
   "cell_type": "markdown",
   "metadata": {},
   "source": [
    "\n",
    "<div class=\"alert alert-block alert-warning\">\n",
    "<b>Comentario Revisor</b> <a class=\"tocSkip\"></a>\n",
    "\n",
    "Muy buen trabajo, solamente te sugiero que en este apartado menciones un poco sobre la transformación que se debe realizar de megabytes a gigabytes. \n",
    "</div>"
   ]
  },
  {
   "cell_type": "markdown",
   "metadata": {},
   "source": [
    "<div class=\"alert alert-block alert-info\">\n",
    "<b>Transformé los mb a gb en la columna \"gb_per_month_included.\".</b> <a class=\"tocSkip\"></a>"
   ]
  },
  {
   "cell_type": "markdown",
   "metadata": {},
   "source": [
    "<div class=\"alert alert-block alert-success\">\n",
    "<b>Comentario revisor</b> <a class=\"tocSkip\"></a>\n",
    "\n",
    "Excelente trabajo con el ajuste!"
   ]
  },
  {
   "cell_type": "markdown",
   "metadata": {
    "id": "1n2X6WXf0q04"
   },
   "source": [
    "## Usuarios/as"
   ]
  },
  {
   "cell_type": "code",
   "execution_count": 7,
   "metadata": {
    "id": "2NgjWFqx0q05"
   },
   "outputs": [
    {
     "name": "stdout",
     "output_type": "stream",
     "text": [
      "<class 'pandas.core.frame.DataFrame'>\n",
      "RangeIndex: 500 entries, 0 to 499\n",
      "Data columns (total 8 columns):\n",
      " #   Column      Non-Null Count  Dtype \n",
      "---  ------      --------------  ----- \n",
      " 0   user_id     500 non-null    int64 \n",
      " 1   first_name  500 non-null    object\n",
      " 2   last_name   500 non-null    object\n",
      " 3   age         500 non-null    int64 \n",
      " 4   city        500 non-null    object\n",
      " 5   reg_date    500 non-null    object\n",
      " 6   plan        500 non-null    object\n",
      " 7   churn_date  34 non-null     object\n",
      "dtypes: int64(2), object(6)\n",
      "memory usage: 31.4+ KB\n"
     ]
    }
   ],
   "source": [
    "# Imprime la información general/resumida sobre el DataFrame de usuarios\n",
    "df_usuarios.info()"
   ]
  },
  {
   "cell_type": "code",
   "execution_count": 8,
   "metadata": {
    "id": "1IN1L9uh0q05"
   },
   "outputs": [
    {
     "data": {
      "text/html": [
       "<div>\n",
       "<style scoped>\n",
       "    .dataframe tbody tr th:only-of-type {\n",
       "        vertical-align: middle;\n",
       "    }\n",
       "\n",
       "    .dataframe tbody tr th {\n",
       "        vertical-align: top;\n",
       "    }\n",
       "\n",
       "    .dataframe thead th {\n",
       "        text-align: right;\n",
       "    }\n",
       "</style>\n",
       "<table border=\"1\" class=\"dataframe\">\n",
       "  <thead>\n",
       "    <tr style=\"text-align: right;\">\n",
       "      <th></th>\n",
       "      <th>user_id</th>\n",
       "      <th>first_name</th>\n",
       "      <th>last_name</th>\n",
       "      <th>age</th>\n",
       "      <th>city</th>\n",
       "      <th>reg_date</th>\n",
       "      <th>plan</th>\n",
       "      <th>churn_date</th>\n",
       "    </tr>\n",
       "  </thead>\n",
       "  <tbody>\n",
       "    <tr>\n",
       "      <th>6</th>\n",
       "      <td>1006</td>\n",
       "      <td>Jesusa</td>\n",
       "      <td>Bradford</td>\n",
       "      <td>73</td>\n",
       "      <td>San Francisco-Oakland-Berkeley, CA MSA</td>\n",
       "      <td>2018-11-27</td>\n",
       "      <td>ultimate</td>\n",
       "      <td>2018-12-18</td>\n",
       "    </tr>\n",
       "    <tr>\n",
       "      <th>113</th>\n",
       "      <td>1113</td>\n",
       "      <td>Spencer</td>\n",
       "      <td>Powers</td>\n",
       "      <td>27</td>\n",
       "      <td>New York-Newark-Jersey City, NY-NJ-PA MSA</td>\n",
       "      <td>2018-06-04</td>\n",
       "      <td>ultimate</td>\n",
       "      <td>NaN</td>\n",
       "    </tr>\n",
       "    <tr>\n",
       "      <th>256</th>\n",
       "      <td>1256</td>\n",
       "      <td>Johnny</td>\n",
       "      <td>Wise</td>\n",
       "      <td>53</td>\n",
       "      <td>Chicago-Naperville-Elgin, IL-IN-WI MSA</td>\n",
       "      <td>2018-09-11</td>\n",
       "      <td>surf</td>\n",
       "      <td>NaN</td>\n",
       "    </tr>\n",
       "    <tr>\n",
       "      <th>45</th>\n",
       "      <td>1045</td>\n",
       "      <td>Barney</td>\n",
       "      <td>Ortega</td>\n",
       "      <td>20</td>\n",
       "      <td>New York-Newark-Jersey City, NY-NJ-PA MSA</td>\n",
       "      <td>2018-10-15</td>\n",
       "      <td>surf</td>\n",
       "      <td>NaN</td>\n",
       "    </tr>\n",
       "    <tr>\n",
       "      <th>238</th>\n",
       "      <td>1238</td>\n",
       "      <td>Jackeline</td>\n",
       "      <td>Byrd</td>\n",
       "      <td>42</td>\n",
       "      <td>Dallas-Fort Worth-Arlington, TX MSA</td>\n",
       "      <td>2018-06-16</td>\n",
       "      <td>surf</td>\n",
       "      <td>NaN</td>\n",
       "    </tr>\n",
       "  </tbody>\n",
       "</table>\n",
       "</div>"
      ],
      "text/plain": [
       "     user_id first_name last_name  age  \\\n",
       "6       1006     Jesusa  Bradford   73   \n",
       "113     1113    Spencer    Powers   27   \n",
       "256     1256     Johnny      Wise   53   \n",
       "45      1045     Barney    Ortega   20   \n",
       "238     1238  Jackeline      Byrd   42   \n",
       "\n",
       "                                          city    reg_date      plan  \\\n",
       "6       San Francisco-Oakland-Berkeley, CA MSA  2018-11-27  ultimate   \n",
       "113  New York-Newark-Jersey City, NY-NJ-PA MSA  2018-06-04  ultimate   \n",
       "256     Chicago-Naperville-Elgin, IL-IN-WI MSA  2018-09-11      surf   \n",
       "45   New York-Newark-Jersey City, NY-NJ-PA MSA  2018-10-15      surf   \n",
       "238        Dallas-Fort Worth-Arlington, TX MSA  2018-06-16      surf   \n",
       "\n",
       "     churn_date  \n",
       "6    2018-12-18  \n",
       "113         NaN  \n",
       "256         NaN  \n",
       "45          NaN  \n",
       "238         NaN  "
      ]
     },
     "execution_count": 8,
     "metadata": {},
     "output_type": "execute_result"
    }
   ],
   "source": [
    "# Imprime una muestra de datos para usuarios\n",
    "df_usuarios.sample(5)"
   ]
  },
  {
   "cell_type": "markdown",
   "metadata": {
    "id": "dCZoUq4f0q06"
   },
   "source": [
    "[Describe lo que ves y observas en la información general y en la muestra de datos impresa para el precio de datos anterior. ¿Hay algún problema (tipos de datos no adecuados, datos ausentes, etc.) que pudieran necesitar investigación y cambios adicionales? ¿Cómo se puede arreglar?]\n",
    "\n",
    "*R.- La columna user_id es de tipo object. Se recomienda su conversión a tipo float para optimización de espacio. Las columnas reg_date y churn_date, debido a que almacenan fechas, de igual manera se recomienda su conversión de datos a tipo datetime. Esta última columna (churn_date) muestra valores nulos, lo cual podría indicar que el usuario no se ha dado de baja o que hay datos faltantes.*"
   ]
  },
  {
   "cell_type": "markdown",
   "metadata": {
    "id": "BX5FQh_I0q06"
   },
   "source": [
    "### Corregir los datos"
   ]
  },
  {
   "cell_type": "markdown",
   "metadata": {
    "id": "8OdKMwJv0q06"
   },
   "source": [
    "[Corrige los problemas obvios con los datos basándote en las observaciones iniciales.]"
   ]
  },
  {
   "cell_type": "code",
   "execution_count": 9,
   "metadata": {
    "id": "yUqX-K0C0q07"
   },
   "outputs": [],
   "source": [
    "df_usuarios[\"reg_date\"] = pd.to_datetime(df_usuarios[\"reg_date\"], format=\"%Y-%m-%d\")\n",
    "df_usuarios[\"churn_date\"] = pd.to_datetime(df_usuarios[\"churn_date\"], format=\"%Y-%m-%d\")"
   ]
  },
  {
   "cell_type": "markdown",
   "metadata": {},
   "source": [
    "<div class=\"alert alert-block alert-warning\">\n",
    "<b>Comentario Revisor</b> <a class=\"tocSkip\"></a>\n",
    "\n",
    "En todos los casos en los que cambiamos el tipo de variable a datetime, te recomiendo agregar el argumento \"format='%Y-%m-%d'\" dentro de la función to_datetime(). De esta manera, puedes asegurarte siempre de que el formato de la fecha que deseas cambiar sea el que necesitas.\n",
    "</div>"
   ]
  },
  {
   "cell_type": "markdown",
   "metadata": {},
   "source": [
    "<div class=\"alert alert-block alert-success\">\n",
    "<b>Comentario revisor</b> <a class=\"tocSkip\"></a>\n",
    "\n",
    "Excelente trabajo con el ajuste!"
   ]
  },
  {
   "cell_type": "markdown",
   "metadata": {
    "id": "ycwuARJp0q07"
   },
   "source": [
    "### Enriquecer los datos"
   ]
  },
  {
   "cell_type": "markdown",
   "metadata": {
    "id": "96NIh4CJ0q08"
   },
   "source": [
    "[Agrega factores adicionales a los datos si crees que pudieran ser útiles.]"
   ]
  },
  {
   "cell_type": "code",
   "execution_count": 10,
   "metadata": {
    "id": "iq0AaBS90q08"
   },
   "outputs": [],
   "source": [
    "# Encuentro todo bien."
   ]
  },
  {
   "cell_type": "markdown",
   "metadata": {
    "id": "o7MeKCid0q08"
   },
   "source": [
    "## Llamadas"
   ]
  },
  {
   "cell_type": "code",
   "execution_count": 11,
   "metadata": {
    "id": "6dDlnoDm0q08"
   },
   "outputs": [
    {
     "name": "stdout",
     "output_type": "stream",
     "text": [
      "<class 'pandas.core.frame.DataFrame'>\n",
      "RangeIndex: 137735 entries, 0 to 137734\n",
      "Data columns (total 4 columns):\n",
      " #   Column     Non-Null Count   Dtype  \n",
      "---  ------     --------------   -----  \n",
      " 0   id         137735 non-null  object \n",
      " 1   user_id    137735 non-null  int64  \n",
      " 2   call_date  137735 non-null  object \n",
      " 3   duration   137735 non-null  float64\n",
      "dtypes: float64(1), int64(1), object(2)\n",
      "memory usage: 4.2+ MB\n"
     ]
    }
   ],
   "source": [
    "# Imprime la información general/resumida sobre el DataFrame de las llamadas\n",
    "df_llamadas.info()"
   ]
  },
  {
   "cell_type": "code",
   "execution_count": 12,
   "metadata": {
    "id": "kuh1vlNB0q09"
   },
   "outputs": [
    {
     "data": {
      "text/html": [
       "<div>\n",
       "<style scoped>\n",
       "    .dataframe tbody tr th:only-of-type {\n",
       "        vertical-align: middle;\n",
       "    }\n",
       "\n",
       "    .dataframe tbody tr th {\n",
       "        vertical-align: top;\n",
       "    }\n",
       "\n",
       "    .dataframe thead th {\n",
       "        text-align: right;\n",
       "    }\n",
       "</style>\n",
       "<table border=\"1\" class=\"dataframe\">\n",
       "  <thead>\n",
       "    <tr style=\"text-align: right;\">\n",
       "      <th></th>\n",
       "      <th>id</th>\n",
       "      <th>user_id</th>\n",
       "      <th>call_date</th>\n",
       "      <th>duration</th>\n",
       "    </tr>\n",
       "  </thead>\n",
       "  <tbody>\n",
       "    <tr>\n",
       "      <th>100847</th>\n",
       "      <td>1360_53</td>\n",
       "      <td>1360</td>\n",
       "      <td>2018-12-30</td>\n",
       "      <td>9.81</td>\n",
       "    </tr>\n",
       "    <tr>\n",
       "      <th>30397</th>\n",
       "      <td>1114_166</td>\n",
       "      <td>1114</td>\n",
       "      <td>2018-11-05</td>\n",
       "      <td>2.25</td>\n",
       "    </tr>\n",
       "    <tr>\n",
       "      <th>130762</th>\n",
       "      <td>1470_211</td>\n",
       "      <td>1470</td>\n",
       "      <td>2018-09-22</td>\n",
       "      <td>11.66</td>\n",
       "    </tr>\n",
       "    <tr>\n",
       "      <th>16036</th>\n",
       "      <td>1062_276</td>\n",
       "      <td>1062</td>\n",
       "      <td>2018-09-18</td>\n",
       "      <td>7.40</td>\n",
       "    </tr>\n",
       "    <tr>\n",
       "      <th>79740</th>\n",
       "      <td>1285_221</td>\n",
       "      <td>1285</td>\n",
       "      <td>2018-09-10</td>\n",
       "      <td>19.72</td>\n",
       "    </tr>\n",
       "  </tbody>\n",
       "</table>\n",
       "</div>"
      ],
      "text/plain": [
       "              id  user_id   call_date  duration\n",
       "100847   1360_53     1360  2018-12-30      9.81\n",
       "30397   1114_166     1114  2018-11-05      2.25\n",
       "130762  1470_211     1470  2018-09-22     11.66\n",
       "16036   1062_276     1062  2018-09-18      7.40\n",
       "79740   1285_221     1285  2018-09-10     19.72"
      ]
     },
     "execution_count": 12,
     "metadata": {},
     "output_type": "execute_result"
    }
   ],
   "source": [
    "# Imprime una muestra de datos para las llamadas\n",
    "df_llamadas.sample(5)"
   ]
  },
  {
   "cell_type": "markdown",
   "metadata": {
    "id": "DOAxYJSx0q09"
   },
   "source": [
    "[Describe lo que ves y observas en la información general y en la muestra de datos impresa para el precio de datos anterior. ¿Hay algún problema (tipos de datos no adecuados, datos ausentes, etc.) que pudieran necesitar investigación y cambios adicionales? ¿Cómo se puede arreglar?]\n",
    "\n",
    "*R.- Las columnas que hacen referencia a ID's se recomienda de preferencia que almacenen valores tipo int. En este caso, la columna \"user_id\" sí cumple este punto, caso contrario, la columna \"id\" no cumple, ya que es tipo object. Recomiendo por cuestiones de simplicidad visual, cambiar el nombre de la columna \"id\" a \"call_id\". La columna \"call_date\" debe cambiar a tipo datetime. Se observa en la columna \"duration\" un formato fraccionario para representar el tiempo, el cual no respeta los rangos del 0 al 59 (ej: 7.82), por lo cual propongo desarrollar una función que permita formatear el tiempo de manera entendible. la tabla no muestra valores ausentes.*"
   ]
  },
  {
   "cell_type": "markdown",
   "metadata": {
    "id": "S7hzxmbX0q0-"
   },
   "source": [
    "### Corregir los datos"
   ]
  },
  {
   "cell_type": "markdown",
   "metadata": {
    "id": "YxWyAjD20q0-"
   },
   "source": [
    "[Corrige los problemas obvios con los datos basándote en las observaciones iniciales.]"
   ]
  },
  {
   "cell_type": "code",
   "execution_count": 13,
   "metadata": {
    "id": "S2r8xA4f0q0-"
   },
   "outputs": [],
   "source": [
    "# Cambia el nombre de la columna \"id\" a \"call_id\" para mejor comprensión.\n",
    "df_llamadas = df_llamadas.rename(columns={\"id\": \"call_id\"})\n",
    "# Convierte la columna \"call_id\" a tipo int.\n",
    "df_llamadas[\"call_id\"] = df_llamadas[\"call_id\"].astype(\"int64\")\n",
    "# Convierte la columna \"call_date\" a tipo datetime.\n",
    "df_llamadas[\"call_date\"] = pd.to_datetime(df_llamadas[\"call_date\"])"
   ]
  },
  {
   "cell_type": "markdown",
   "metadata": {
    "id": "KrMgTrlG0q0_"
   },
   "source": [
    "### Enriquecer los datos"
   ]
  },
  {
   "cell_type": "markdown",
   "metadata": {
    "id": "a9MbmEvE0q0_"
   },
   "source": [
    "[Agrega factores adicionales a los datos si crees que pudieran ser útiles.]"
   ]
  },
  {
   "cell_type": "code",
   "execution_count": 14,
   "metadata": {
    "id": "iZ1avpA_0q0_"
   },
   "outputs": [],
   "source": [
    "# Formatea los tiempos para la columna \"duration\".\n",
    "def formatea_tiempo(tiempo):\n",
    "    entero = int(tiempo) # Parte entera, representa los minutos.\n",
    "    decimal = int(str(tiempo).split(\".\")[1]) # Parte decimal, representa los segundos.\n",
    "    minutos_extra = decimal // 60 # Cada 60 segundos, se forma un minuto extra.\n",
    "    minutos = entero + minutos_extra # Suma los minutos extra a los minutos originales.\n",
    "    segundos = decimal % 60 # Los segundos que sobran tras formar minutos.\n",
    "    return float(f\"{minutos}.{segundos:02}\") # Devuelve el resultado en formato decimal tipo MM.SS\n",
    "\n",
    "df_llamadas[\"duration\"] = df_llamadas[\"duration\"].apply(formatea_tiempo) # Aplica la función a la columna \"duration\"."
   ]
  },
  {
   "cell_type": "markdown",
   "metadata": {},
   "source": [
    "<div class=\"alert alert-block alert-warning\">\n",
    "<b>Comentario Revisor</b> <a class=\"tocSkip\"></a>\n",
    "\n",
    "Qué podríamos decir hasta el momento de las llamadas que tienen una duración de 0?\n",
    "</div>"
   ]
  },
  {
   "cell_type": "markdown",
   "metadata": {},
   "source": [
    "<div class=\"alert alert-block alert-info\">\n",
    "<b>Probablemente llamadas que se realizaron pero no se contestaron.</b> <a class=\"tocSkip\"></a>"
   ]
  },
  {
   "cell_type": "markdown",
   "metadata": {},
   "source": [
    "<div class=\"alert alert-block alert-success\">\n",
    "<b>Comentario revisor</b> <a class=\"tocSkip\"></a>\n",
    "\n",
    "Excelente trabajo con el ajuste!"
   ]
  },
  {
   "cell_type": "markdown",
   "metadata": {
    "id": "mOUZSi180q0_"
   },
   "source": [
    "## Mensajes"
   ]
  },
  {
   "cell_type": "code",
   "execution_count": 15,
   "metadata": {
    "id": "R-bYJpdV0q1A"
   },
   "outputs": [
    {
     "name": "stdout",
     "output_type": "stream",
     "text": [
      "<class 'pandas.core.frame.DataFrame'>\n",
      "RangeIndex: 76051 entries, 0 to 76050\n",
      "Data columns (total 3 columns):\n",
      " #   Column        Non-Null Count  Dtype \n",
      "---  ------        --------------  ----- \n",
      " 0   id            76051 non-null  object\n",
      " 1   user_id       76051 non-null  int64 \n",
      " 2   message_date  76051 non-null  object\n",
      "dtypes: int64(1), object(2)\n",
      "memory usage: 1.7+ MB\n"
     ]
    }
   ],
   "source": [
    "# Imprime la información general/resumida sobre el DataFrame de los mensajes\n",
    "df_mensajes.info()"
   ]
  },
  {
   "cell_type": "code",
   "execution_count": 16,
   "metadata": {
    "id": "mCEl2iGE0q1A"
   },
   "outputs": [
    {
     "data": {
      "text/html": [
       "<div>\n",
       "<style scoped>\n",
       "    .dataframe tbody tr th:only-of-type {\n",
       "        vertical-align: middle;\n",
       "    }\n",
       "\n",
       "    .dataframe tbody tr th {\n",
       "        vertical-align: top;\n",
       "    }\n",
       "\n",
       "    .dataframe thead th {\n",
       "        text-align: right;\n",
       "    }\n",
       "</style>\n",
       "<table border=\"1\" class=\"dataframe\">\n",
       "  <thead>\n",
       "    <tr style=\"text-align: right;\">\n",
       "      <th></th>\n",
       "      <th>id</th>\n",
       "      <th>user_id</th>\n",
       "      <th>message_date</th>\n",
       "    </tr>\n",
       "  </thead>\n",
       "  <tbody>\n",
       "    <tr>\n",
       "      <th>1462</th>\n",
       "      <td>1014_181</td>\n",
       "      <td>1014</td>\n",
       "      <td>2018-12-10</td>\n",
       "    </tr>\n",
       "    <tr>\n",
       "      <th>55075</th>\n",
       "      <td>1347_112</td>\n",
       "      <td>1347</td>\n",
       "      <td>2018-08-15</td>\n",
       "    </tr>\n",
       "    <tr>\n",
       "      <th>5145</th>\n",
       "      <td>1046_207</td>\n",
       "      <td>1046</td>\n",
       "      <td>2018-10-18</td>\n",
       "    </tr>\n",
       "    <tr>\n",
       "      <th>61751</th>\n",
       "      <td>1385_215</td>\n",
       "      <td>1385</td>\n",
       "      <td>2018-11-19</td>\n",
       "    </tr>\n",
       "    <tr>\n",
       "      <th>62940</th>\n",
       "      <td>1399_5</td>\n",
       "      <td>1399</td>\n",
       "      <td>2018-12-03</td>\n",
       "    </tr>\n",
       "  </tbody>\n",
       "</table>\n",
       "</div>"
      ],
      "text/plain": [
       "             id  user_id message_date\n",
       "1462   1014_181     1014   2018-12-10\n",
       "55075  1347_112     1347   2018-08-15\n",
       "5145   1046_207     1046   2018-10-18\n",
       "61751  1385_215     1385   2018-11-19\n",
       "62940    1399_5     1399   2018-12-03"
      ]
     },
     "execution_count": 16,
     "metadata": {},
     "output_type": "execute_result"
    }
   ],
   "source": [
    "# Imprime una muestra de datos para los mensajes\n",
    "df_mensajes.sample(5)"
   ]
  },
  {
   "cell_type": "markdown",
   "metadata": {
    "id": "04xDj7KH0q1A"
   },
   "source": [
    "[Describe lo que ves y observas en la información general y en la muestra de datos impresa para el precio de datos anterior. ¿Hay algún problema (tipos de datos no adecuados, datos ausentes, etc.) que pudieran necesitar investigación y cambios adicionales? ¿Cómo se puede arreglar?]\n",
    "\n",
    "*R.- No hay datos ausentes. Propongo cambiar el nombre de la columna \"id\" a \"message_id\" y cambiar su tipo de dato a int. También la columna \"message_date\" cambiar su tipo de dato a datetime.*"
   ]
  },
  {
   "cell_type": "markdown",
   "metadata": {
    "id": "Sprfak900q1B"
   },
   "source": [
    "### Corregir los datos"
   ]
  },
  {
   "cell_type": "markdown",
   "metadata": {
    "id": "eGw7d9j10q1B"
   },
   "source": [
    "[Corrige los problemas obvios con los datos basándote en las observaciones iniciales.]"
   ]
  },
  {
   "cell_type": "code",
   "execution_count": 17,
   "metadata": {
    "id": "vsllvkoa0q1B"
   },
   "outputs": [],
   "source": [
    "# Cambia el nombre de la columna \"id\" a \"message_id\" para mejor comprensión.\n",
    "df_mensajes = df_mensajes.rename(columns={\"id\": \"message_id\"})\n",
    "# Convierte la columna \"message_id\" a tipo int64.\n",
    "df_mensajes[\"message_id\"] = df_mensajes[\"message_id\"].astype(\"int64\")\n",
    "# Convierte la columna \"message_date\" a tipo datetime.\n",
    "df_mensajes[\"message_date\"] = pd.to_datetime(df_mensajes[\"message_date\"])"
   ]
  },
  {
   "cell_type": "markdown",
   "metadata": {
    "id": "HvLid7iD0q1B"
   },
   "source": [
    "### Enriquecer los datos"
   ]
  },
  {
   "cell_type": "markdown",
   "metadata": {
    "id": "8nhPFKIe0q1C"
   },
   "source": [
    "[Agrega factores adicionales a los datos si crees que pudieran ser útiles.]"
   ]
  },
  {
   "cell_type": "code",
   "execution_count": 18,
   "metadata": {
    "id": "zYEXZac10q1C"
   },
   "outputs": [],
   "source": [
    "# Encuentro todo bien."
   ]
  },
  {
   "cell_type": "markdown",
   "metadata": {
    "id": "bStkaxn40q1C"
   },
   "source": [
    "## Internet"
   ]
  },
  {
   "cell_type": "code",
   "execution_count": 19,
   "metadata": {
    "id": "e-Uz5qyn0q1C"
   },
   "outputs": [
    {
     "name": "stdout",
     "output_type": "stream",
     "text": [
      "<class 'pandas.core.frame.DataFrame'>\n",
      "RangeIndex: 104825 entries, 0 to 104824\n",
      "Data columns (total 4 columns):\n",
      " #   Column        Non-Null Count   Dtype  \n",
      "---  ------        --------------   -----  \n",
      " 0   id            104825 non-null  object \n",
      " 1   user_id       104825 non-null  int64  \n",
      " 2   session_date  104825 non-null  object \n",
      " 3   mb_used       104825 non-null  float64\n",
      "dtypes: float64(1), int64(1), object(2)\n",
      "memory usage: 3.2+ MB\n"
     ]
    }
   ],
   "source": [
    "# Imprime la información general/resumida sobre el DataFrame de internet\n",
    "df_internet.info()"
   ]
  },
  {
   "cell_type": "code",
   "execution_count": 20,
   "metadata": {
    "id": "9r3x_XLw0q1C"
   },
   "outputs": [
    {
     "data": {
      "text/html": [
       "<div>\n",
       "<style scoped>\n",
       "    .dataframe tbody tr th:only-of-type {\n",
       "        vertical-align: middle;\n",
       "    }\n",
       "\n",
       "    .dataframe tbody tr th {\n",
       "        vertical-align: top;\n",
       "    }\n",
       "\n",
       "    .dataframe thead th {\n",
       "        text-align: right;\n",
       "    }\n",
       "</style>\n",
       "<table border=\"1\" class=\"dataframe\">\n",
       "  <thead>\n",
       "    <tr style=\"text-align: right;\">\n",
       "      <th></th>\n",
       "      <th>id</th>\n",
       "      <th>user_id</th>\n",
       "      <th>session_date</th>\n",
       "      <th>mb_used</th>\n",
       "    </tr>\n",
       "  </thead>\n",
       "  <tbody>\n",
       "    <tr>\n",
       "      <th>50296</th>\n",
       "      <td>1224_88</td>\n",
       "      <td>1224</td>\n",
       "      <td>2018-07-30</td>\n",
       "      <td>481.17</td>\n",
       "    </tr>\n",
       "    <tr>\n",
       "      <th>75816</th>\n",
       "      <td>1357_101</td>\n",
       "      <td>1357</td>\n",
       "      <td>2018-08-11</td>\n",
       "      <td>0.00</td>\n",
       "    </tr>\n",
       "    <tr>\n",
       "      <th>42349</th>\n",
       "      <td>1187_526</td>\n",
       "      <td>1187</td>\n",
       "      <td>2018-05-26</td>\n",
       "      <td>0.00</td>\n",
       "    </tr>\n",
       "    <tr>\n",
       "      <th>54647</th>\n",
       "      <td>1247_62</td>\n",
       "      <td>1247</td>\n",
       "      <td>2018-09-07</td>\n",
       "      <td>380.21</td>\n",
       "    </tr>\n",
       "    <tr>\n",
       "      <th>65729</th>\n",
       "      <td>1304_88</td>\n",
       "      <td>1304</td>\n",
       "      <td>2018-12-12</td>\n",
       "      <td>178.58</td>\n",
       "    </tr>\n",
       "  </tbody>\n",
       "</table>\n",
       "</div>"
      ],
      "text/plain": [
       "             id  user_id session_date  mb_used\n",
       "50296   1224_88     1224   2018-07-30   481.17\n",
       "75816  1357_101     1357   2018-08-11     0.00\n",
       "42349  1187_526     1187   2018-05-26     0.00\n",
       "54647   1247_62     1247   2018-09-07   380.21\n",
       "65729   1304_88     1304   2018-12-12   178.58"
      ]
     },
     "execution_count": 20,
     "metadata": {},
     "output_type": "execute_result"
    }
   ],
   "source": [
    "# Imprime una muestra de datos para el tráfico de internet\n",
    "df_internet.sample(5)"
   ]
  },
  {
   "cell_type": "markdown",
   "metadata": {
    "id": "EzOG5ik30q1D"
   },
   "source": [
    "[Describe lo que ves y observas en la información general y en la muestra de datos impresa para el precio de datos anterior. ¿Hay algún problema (tipos de datos no adecuados, datos ausentes, etc.) que pudieran necesitar investigación y cambios adicionales? ¿Cómo se puede arreglar?]\n",
    "\n",
    "*R.- Mismo caso que los anteriores. Dar un nombre más entendible a la columna \"id\" por \"session_id\" y cambiar a los datos correspondientes tanto para esta columna (cambiar a tipo int) como para \"session_date\" (cambiar a tipo datetime). No se muestran valores nulos.*"
   ]
  },
  {
   "cell_type": "markdown",
   "metadata": {
    "id": "yA0tkPFg0q1D"
   },
   "source": [
    "### Corregir los datos"
   ]
  },
  {
   "cell_type": "markdown",
   "metadata": {
    "id": "zlZMuIEK0q1D"
   },
   "source": [
    "[Corrige los problemas obvios con los datos basándote en las observaciones iniciales.]"
   ]
  },
  {
   "cell_type": "code",
   "execution_count": 21,
   "metadata": {
    "id": "zVeanzdd0q1E"
   },
   "outputs": [
    {
     "data": {
      "text/html": [
       "<div>\n",
       "<style scoped>\n",
       "    .dataframe tbody tr th:only-of-type {\n",
       "        vertical-align: middle;\n",
       "    }\n",
       "\n",
       "    .dataframe tbody tr th {\n",
       "        vertical-align: top;\n",
       "    }\n",
       "\n",
       "    .dataframe thead th {\n",
       "        text-align: right;\n",
       "    }\n",
       "</style>\n",
       "<table border=\"1\" class=\"dataframe\">\n",
       "  <thead>\n",
       "    <tr style=\"text-align: right;\">\n",
       "      <th></th>\n",
       "      <th>session_id</th>\n",
       "      <th>user_id</th>\n",
       "      <th>session_date</th>\n",
       "      <th>gb_used</th>\n",
       "    </tr>\n",
       "  </thead>\n",
       "  <tbody>\n",
       "    <tr>\n",
       "      <th>0</th>\n",
       "      <td>100013</td>\n",
       "      <td>1000</td>\n",
       "      <td>2018-12-29</td>\n",
       "      <td>1.0</td>\n",
       "    </tr>\n",
       "    <tr>\n",
       "      <th>1</th>\n",
       "      <td>1000204</td>\n",
       "      <td>1000</td>\n",
       "      <td>2018-12-31</td>\n",
       "      <td>0.0</td>\n",
       "    </tr>\n",
       "    <tr>\n",
       "      <th>2</th>\n",
       "      <td>1000379</td>\n",
       "      <td>1000</td>\n",
       "      <td>2018-12-28</td>\n",
       "      <td>1.0</td>\n",
       "    </tr>\n",
       "    <tr>\n",
       "      <th>3</th>\n",
       "      <td>1000413</td>\n",
       "      <td>1000</td>\n",
       "      <td>2018-12-26</td>\n",
       "      <td>1.0</td>\n",
       "    </tr>\n",
       "    <tr>\n",
       "      <th>4</th>\n",
       "      <td>1000442</td>\n",
       "      <td>1000</td>\n",
       "      <td>2018-12-27</td>\n",
       "      <td>1.0</td>\n",
       "    </tr>\n",
       "    <tr>\n",
       "      <th>...</th>\n",
       "      <td>...</td>\n",
       "      <td>...</td>\n",
       "      <td>...</td>\n",
       "      <td>...</td>\n",
       "    </tr>\n",
       "    <tr>\n",
       "      <th>104820</th>\n",
       "      <td>1499215</td>\n",
       "      <td>1499</td>\n",
       "      <td>2018-10-20</td>\n",
       "      <td>1.0</td>\n",
       "    </tr>\n",
       "    <tr>\n",
       "      <th>104821</th>\n",
       "      <td>1499216</td>\n",
       "      <td>1499</td>\n",
       "      <td>2018-12-30</td>\n",
       "      <td>1.0</td>\n",
       "    </tr>\n",
       "    <tr>\n",
       "      <th>104822</th>\n",
       "      <td>1499217</td>\n",
       "      <td>1499</td>\n",
       "      <td>2018-09-22</td>\n",
       "      <td>1.0</td>\n",
       "    </tr>\n",
       "    <tr>\n",
       "      <th>104823</th>\n",
       "      <td>1499218</td>\n",
       "      <td>1499</td>\n",
       "      <td>2018-12-07</td>\n",
       "      <td>0.0</td>\n",
       "    </tr>\n",
       "    <tr>\n",
       "      <th>104824</th>\n",
       "      <td>1499219</td>\n",
       "      <td>1499</td>\n",
       "      <td>2018-12-24</td>\n",
       "      <td>1.0</td>\n",
       "    </tr>\n",
       "  </tbody>\n",
       "</table>\n",
       "<p>104825 rows × 4 columns</p>\n",
       "</div>"
      ],
      "text/plain": [
       "        session_id  user_id session_date  gb_used\n",
       "0           100013     1000   2018-12-29      1.0\n",
       "1          1000204     1000   2018-12-31      0.0\n",
       "2          1000379     1000   2018-12-28      1.0\n",
       "3          1000413     1000   2018-12-26      1.0\n",
       "4          1000442     1000   2018-12-27      1.0\n",
       "...            ...      ...          ...      ...\n",
       "104820     1499215     1499   2018-10-20      1.0\n",
       "104821     1499216     1499   2018-12-30      1.0\n",
       "104822     1499217     1499   2018-09-22      1.0\n",
       "104823     1499218     1499   2018-12-07      0.0\n",
       "104824     1499219     1499   2018-12-24      1.0\n",
       "\n",
       "[104825 rows x 4 columns]"
      ]
     },
     "execution_count": 21,
     "metadata": {},
     "output_type": "execute_result"
    }
   ],
   "source": [
    "# Cambia el nombre de la columna \"id\" a \"session_id\" para mejor comprensión.\n",
    "df_internet = df_internet.rename(columns={\"id\": \"session_id\"})\n",
    "# Convierte la columna \"session_id\" a tipo int64.\n",
    "df_internet[\"session_id\"] = df_internet[\"session_id\"].astype(\"int64\")\n",
    "# Convierte la columna \"session_date\" a tipo datetime.\n",
    "df_internet[\"session_date\"] = pd.to_datetime(df_internet[\"session_date\"])\n",
    "# Cambia el nombre de la columna \"mb_used\" a \"gb_used\" y convierte los mb a gb.\n",
    "df_internet = df_internet.rename(columns={\"mb_used\": \"gb_used\"})\n",
    "df_internet[\"gb_used\"] = np.ceil(df_internet[\"gb_used\"] / 1024)\n",
    "df_internet"
   ]
  },
  {
   "cell_type": "markdown",
   "metadata": {},
   "source": [
    "<div class=\"alert alert-block alert-warning\">\n",
    "<b>Comentario revisor</b> <a class=\"tocSkip\"></a>\n",
    "\n",
    "\n",
    "Te recomiendo solamente comentar que cuando agrupemos los datos vamos a tener que redondear hacia arriba lo valores de la transformación de mbegabyter a gigabyte, para este ejercicio debemos hacer el redondeo superior dado que se cobra el costo extra en cuanto se pasa de los límites.Por lo que es necesario hacer la transformación de mb a gb y después hacer el redondeo.  \n",
    "</div>"
   ]
  },
  {
   "cell_type": "markdown",
   "metadata": {},
   "source": [
    "<div class=\"alert alert-block alert-info\">\n",
    "<b>Ya transformé los mb a gb. Quedaron redondeados los valores en la columna \"gb_used\".</b> <a class=\"tocSkip\"></a>"
   ]
  },
  {
   "cell_type": "markdown",
   "metadata": {},
   "source": [
    "<div class=\"alert alert-block alert-success\">\n",
    "<b>Comentario revisor</b> <a class=\"tocSkip\"></a>\n",
    "\n",
    "Excelente trabajo con el ajuste!"
   ]
  },
  {
   "cell_type": "markdown",
   "metadata": {
    "id": "e8_mLF4a0q1E"
   },
   "source": [
    "### Enriquecer los datos"
   ]
  },
  {
   "cell_type": "markdown",
   "metadata": {
    "id": "xhNdn2tE0q1E"
   },
   "source": [
    "[Agrega factores adicionales a los datos si crees que pudieran ser útiles.]"
   ]
  },
  {
   "cell_type": "code",
   "execution_count": 22,
   "metadata": {
    "id": "ESiYPIEK0q1E"
   },
   "outputs": [],
   "source": [
    "# Encuentro todo bien."
   ]
  },
  {
   "cell_type": "markdown",
   "metadata": {
    "id": "3UA2cqIW0q1E"
   },
   "source": [
    "## Estudiar las condiciones de las tarifas"
   ]
  },
  {
   "cell_type": "markdown",
   "metadata": {
    "id": "T86Sqltq0q1F"
   },
   "source": [
    "[Es sumamente importante entender cómo funcionan las tarifas, cómo se les cobra a los usuarios en función de su plan de suscripción. Así que te sugerimos imprimir la información de la tarifa para ver una vez más sus condiciones.]"
   ]
  },
  {
   "cell_type": "code",
   "execution_count": 23,
   "metadata": {
    "id": "i409op8p0q1F"
   },
   "outputs": [
    {
     "name": "stdout",
     "output_type": "stream",
     "text": [
      "<class 'pandas.core.frame.DataFrame'>\n",
      "RangeIndex: 2 entries, 0 to 1\n",
      "Data columns (total 8 columns):\n",
      " #   Column                 Non-Null Count  Dtype  \n",
      "---  ------                 --------------  -----  \n",
      " 0   messages_included      2 non-null      int64  \n",
      " 1   gb_per_month_included  2 non-null      float64\n",
      " 2   minutes_included       2 non-null      int64  \n",
      " 3   usd_monthly_pay        2 non-null      float64\n",
      " 4   usd_per_gb             2 non-null      float64\n",
      " 5   usd_per_message        2 non-null      float64\n",
      " 6   usd_per_minute         2 non-null      float64\n",
      " 7   plan_name              2 non-null      object \n",
      "dtypes: float64(5), int64(2), object(1)\n",
      "memory usage: 256.0+ bytes\n"
     ]
    }
   ],
   "source": [
    "# Imprime las condiciones de la tarifa y asegúrate de que te quedan claras\n",
    "df_tarifas.info()"
   ]
  },
  {
   "cell_type": "markdown",
   "metadata": {
    "id": "hMR1tP5d0q1F"
   },
   "source": [
    "## Agregar datos por usuario\n",
    "\n",
    "[Ahora que los datos están limpios, agrega los datos por usuario y por periodo para que solo haya un registro por usuario y por periodo. Esto facilitará mucho el análisis posterior.]"
   ]
  },
  {
   "cell_type": "code",
   "execution_count": 24,
   "metadata": {
    "id": "A332cedB0q1G"
   },
   "outputs": [
    {
     "data": {
      "text/html": [
       "<div>\n",
       "<style scoped>\n",
       "    .dataframe tbody tr th:only-of-type {\n",
       "        vertical-align: middle;\n",
       "    }\n",
       "\n",
       "    .dataframe tbody tr th {\n",
       "        vertical-align: top;\n",
       "    }\n",
       "\n",
       "    .dataframe thead th {\n",
       "        text-align: right;\n",
       "    }\n",
       "</style>\n",
       "<table border=\"1\" class=\"dataframe\">\n",
       "  <thead>\n",
       "    <tr style=\"text-align: right;\">\n",
       "      <th></th>\n",
       "      <th>user_id</th>\n",
       "      <th>call_date</th>\n",
       "      <th>total_llamadas</th>\n",
       "    </tr>\n",
       "  </thead>\n",
       "  <tbody>\n",
       "    <tr>\n",
       "      <th>0</th>\n",
       "      <td>1000</td>\n",
       "      <td>December</td>\n",
       "      <td>16</td>\n",
       "    </tr>\n",
       "    <tr>\n",
       "      <th>1</th>\n",
       "      <td>1001</td>\n",
       "      <td>August</td>\n",
       "      <td>27</td>\n",
       "    </tr>\n",
       "    <tr>\n",
       "      <th>2</th>\n",
       "      <td>1001</td>\n",
       "      <td>December</td>\n",
       "      <td>56</td>\n",
       "    </tr>\n",
       "    <tr>\n",
       "      <th>3</th>\n",
       "      <td>1001</td>\n",
       "      <td>November</td>\n",
       "      <td>64</td>\n",
       "    </tr>\n",
       "    <tr>\n",
       "      <th>4</th>\n",
       "      <td>1001</td>\n",
       "      <td>October</td>\n",
       "      <td>65</td>\n",
       "    </tr>\n",
       "    <tr>\n",
       "      <th>...</th>\n",
       "      <td>...</td>\n",
       "      <td>...</td>\n",
       "      <td>...</td>\n",
       "    </tr>\n",
       "    <tr>\n",
       "      <th>2253</th>\n",
       "      <td>1498</td>\n",
       "      <td>September</td>\n",
       "      <td>45</td>\n",
       "    </tr>\n",
       "    <tr>\n",
       "      <th>2254</th>\n",
       "      <td>1499</td>\n",
       "      <td>December</td>\n",
       "      <td>65</td>\n",
       "    </tr>\n",
       "    <tr>\n",
       "      <th>2255</th>\n",
       "      <td>1499</td>\n",
       "      <td>November</td>\n",
       "      <td>45</td>\n",
       "    </tr>\n",
       "    <tr>\n",
       "      <th>2256</th>\n",
       "      <td>1499</td>\n",
       "      <td>October</td>\n",
       "      <td>53</td>\n",
       "    </tr>\n",
       "    <tr>\n",
       "      <th>2257</th>\n",
       "      <td>1499</td>\n",
       "      <td>September</td>\n",
       "      <td>41</td>\n",
       "    </tr>\n",
       "  </tbody>\n",
       "</table>\n",
       "<p>2258 rows × 3 columns</p>\n",
       "</div>"
      ],
      "text/plain": [
       "      user_id  call_date  total_llamadas\n",
       "0        1000   December              16\n",
       "1        1001     August              27\n",
       "2        1001   December              56\n",
       "3        1001   November              64\n",
       "4        1001    October              65\n",
       "...       ...        ...             ...\n",
       "2253     1498  September              45\n",
       "2254     1499   December              65\n",
       "2255     1499   November              45\n",
       "2256     1499    October              53\n",
       "2257     1499  September              41\n",
       "\n",
       "[2258 rows x 3 columns]"
      ]
     },
     "execution_count": 24,
     "metadata": {},
     "output_type": "execute_result"
    }
   ],
   "source": [
    "# Calcula el número de llamadas hechas por cada usuario al mes. Guarda el resultado.\n",
    "df_llamadas_usuario = (\n",
    "    df_llamadas.groupby([df_llamadas[\"user_id\"], df_llamadas[\"call_date\"].dt.month_name()])\n",
    "    .size()\n",
    "    .reset_index(name=\"total_llamadas\")\n",
    ")\n",
    "df_llamadas_usuario"
   ]
  },
  {
   "cell_type": "markdown",
   "metadata": {},
   "source": [
    "\n",
    "<div class=\"alert alert-block alert-warning\">\n",
    "\n",
    "<b>Comentario revisor</b> <a class=\"tocSkip\"></a>\n",
    "\n",
    "Si bien es correcta la forma de agrupar para sacar la duración de las llamadas por cada ususario, para proximas ocasiones puedes hacer uso de la siguiente forma:\n",
    "    \n",
    "    pivot_calls = calls.pivot_table(index=['user_id', 'month'],\n",
    "                                values=['duration'],\n",
    "                                aggfunc=['sum','count']).reset_index()\n",
    "\n",
    "</div>"
   ]
  },
  {
   "cell_type": "code",
   "execution_count": 25,
   "metadata": {
    "id": "aw2cmuql0q1G"
   },
   "outputs": [
    {
     "data": {
      "text/html": [
       "<div>\n",
       "<style scoped>\n",
       "    .dataframe tbody tr th:only-of-type {\n",
       "        vertical-align: middle;\n",
       "    }\n",
       "\n",
       "    .dataframe tbody tr th {\n",
       "        vertical-align: top;\n",
       "    }\n",
       "\n",
       "    .dataframe thead th {\n",
       "        text-align: right;\n",
       "    }\n",
       "</style>\n",
       "<table border=\"1\" class=\"dataframe\">\n",
       "  <thead>\n",
       "    <tr style=\"text-align: right;\">\n",
       "      <th></th>\n",
       "      <th>user_id</th>\n",
       "      <th>call_date</th>\n",
       "      <th>total_minutos</th>\n",
       "    </tr>\n",
       "  </thead>\n",
       "  <tbody>\n",
       "    <tr>\n",
       "      <th>0</th>\n",
       "      <td>1000</td>\n",
       "      <td>December</td>\n",
       "      <td>118.46</td>\n",
       "    </tr>\n",
       "    <tr>\n",
       "      <th>1</th>\n",
       "      <td>1001</td>\n",
       "      <td>August</td>\n",
       "      <td>173.88</td>\n",
       "    </tr>\n",
       "    <tr>\n",
       "      <th>2</th>\n",
       "      <td>1001</td>\n",
       "      <td>December</td>\n",
       "      <td>397.57</td>\n",
       "    </tr>\n",
       "    <tr>\n",
       "      <th>3</th>\n",
       "      <td>1001</td>\n",
       "      <td>November</td>\n",
       "      <td>409.27</td>\n",
       "    </tr>\n",
       "    <tr>\n",
       "      <th>4</th>\n",
       "      <td>1001</td>\n",
       "      <td>October</td>\n",
       "      <td>380.35</td>\n",
       "    </tr>\n",
       "    <tr>\n",
       "      <th>...</th>\n",
       "      <td>...</td>\n",
       "      <td>...</td>\n",
       "      <td>...</td>\n",
       "    </tr>\n",
       "    <tr>\n",
       "      <th>2253</th>\n",
       "      <td>1498</td>\n",
       "      <td>September</td>\n",
       "      <td>346.04</td>\n",
       "    </tr>\n",
       "    <tr>\n",
       "      <th>2254</th>\n",
       "      <td>1499</td>\n",
       "      <td>December</td>\n",
       "      <td>474.30</td>\n",
       "    </tr>\n",
       "    <tr>\n",
       "      <th>2255</th>\n",
       "      <td>1499</td>\n",
       "      <td>November</td>\n",
       "      <td>292.18</td>\n",
       "    </tr>\n",
       "    <tr>\n",
       "      <th>2256</th>\n",
       "      <td>1499</td>\n",
       "      <td>October</td>\n",
       "      <td>366.37</td>\n",
       "    </tr>\n",
       "    <tr>\n",
       "      <th>2257</th>\n",
       "      <td>1499</td>\n",
       "      <td>September</td>\n",
       "      <td>335.07</td>\n",
       "    </tr>\n",
       "  </tbody>\n",
       "</table>\n",
       "<p>2258 rows × 3 columns</p>\n",
       "</div>"
      ],
      "text/plain": [
       "      user_id  call_date  total_minutos\n",
       "0        1000   December         118.46\n",
       "1        1001     August         173.88\n",
       "2        1001   December         397.57\n",
       "3        1001   November         409.27\n",
       "4        1001    October         380.35\n",
       "...       ...        ...            ...\n",
       "2253     1498  September         346.04\n",
       "2254     1499   December         474.30\n",
       "2255     1499   November         292.18\n",
       "2256     1499    October         366.37\n",
       "2257     1499  September         335.07\n",
       "\n",
       "[2258 rows x 3 columns]"
      ]
     },
     "execution_count": 25,
     "metadata": {},
     "output_type": "execute_result"
    }
   ],
   "source": [
    "# Calcula la cantidad de minutos usados por cada usuario al mes. Guarda el resultado.\n",
    "df_minutos_usuario_mes = (\n",
    "    df_llamadas.groupby([df_llamadas[\"user_id\"], df_llamadas[\"call_date\"].dt.month_name()])[\"duration\"]\n",
    "    .sum()\n",
    "    .reset_index(name=\"total_minutos\")\n",
    ")\n",
    "df_minutos_usuario_mes"
   ]
  },
  {
   "cell_type": "code",
   "execution_count": 26,
   "metadata": {
    "id": "CcQvNHn60q1G"
   },
   "outputs": [
    {
     "data": {
      "text/html": [
       "<div>\n",
       "<style scoped>\n",
       "    .dataframe tbody tr th:only-of-type {\n",
       "        vertical-align: middle;\n",
       "    }\n",
       "\n",
       "    .dataframe tbody tr th {\n",
       "        vertical-align: top;\n",
       "    }\n",
       "\n",
       "    .dataframe thead th {\n",
       "        text-align: right;\n",
       "    }\n",
       "</style>\n",
       "<table border=\"1\" class=\"dataframe\">\n",
       "  <thead>\n",
       "    <tr style=\"text-align: right;\">\n",
       "      <th></th>\n",
       "      <th>user_id</th>\n",
       "      <th>message_date</th>\n",
       "      <th>total_mensajes</th>\n",
       "    </tr>\n",
       "  </thead>\n",
       "  <tbody>\n",
       "    <tr>\n",
       "      <th>0</th>\n",
       "      <td>1000</td>\n",
       "      <td>December</td>\n",
       "      <td>11</td>\n",
       "    </tr>\n",
       "    <tr>\n",
       "      <th>1</th>\n",
       "      <td>1001</td>\n",
       "      <td>August</td>\n",
       "      <td>30</td>\n",
       "    </tr>\n",
       "    <tr>\n",
       "      <th>2</th>\n",
       "      <td>1001</td>\n",
       "      <td>December</td>\n",
       "      <td>44</td>\n",
       "    </tr>\n",
       "    <tr>\n",
       "      <th>3</th>\n",
       "      <td>1001</td>\n",
       "      <td>November</td>\n",
       "      <td>36</td>\n",
       "    </tr>\n",
       "    <tr>\n",
       "      <th>4</th>\n",
       "      <td>1001</td>\n",
       "      <td>October</td>\n",
       "      <td>53</td>\n",
       "    </tr>\n",
       "    <tr>\n",
       "      <th>...</th>\n",
       "      <td>...</td>\n",
       "      <td>...</td>\n",
       "      <td>...</td>\n",
       "    </tr>\n",
       "    <tr>\n",
       "      <th>1801</th>\n",
       "      <td>1496</td>\n",
       "      <td>December</td>\n",
       "      <td>11</td>\n",
       "    </tr>\n",
       "    <tr>\n",
       "      <th>1802</th>\n",
       "      <td>1496</td>\n",
       "      <td>November</td>\n",
       "      <td>13</td>\n",
       "    </tr>\n",
       "    <tr>\n",
       "      <th>1803</th>\n",
       "      <td>1496</td>\n",
       "      <td>October</td>\n",
       "      <td>18</td>\n",
       "    </tr>\n",
       "    <tr>\n",
       "      <th>1804</th>\n",
       "      <td>1496</td>\n",
       "      <td>September</td>\n",
       "      <td>21</td>\n",
       "    </tr>\n",
       "    <tr>\n",
       "      <th>1805</th>\n",
       "      <td>1497</td>\n",
       "      <td>December</td>\n",
       "      <td>50</td>\n",
       "    </tr>\n",
       "  </tbody>\n",
       "</table>\n",
       "<p>1806 rows × 3 columns</p>\n",
       "</div>"
      ],
      "text/plain": [
       "      user_id message_date  total_mensajes\n",
       "0        1000     December              11\n",
       "1        1001       August              30\n",
       "2        1001     December              44\n",
       "3        1001     November              36\n",
       "4        1001      October              53\n",
       "...       ...          ...             ...\n",
       "1801     1496     December              11\n",
       "1802     1496     November              13\n",
       "1803     1496      October              18\n",
       "1804     1496    September              21\n",
       "1805     1497     December              50\n",
       "\n",
       "[1806 rows x 3 columns]"
      ]
     },
     "execution_count": 26,
     "metadata": {},
     "output_type": "execute_result"
    }
   ],
   "source": [
    "# Calcula el número de mensajes enviados por cada usuario al mes. Guarda el resultado.\n",
    "df_mensajes_usuarios_mes = (\n",
    "    df_mensajes.groupby([\"user_id\", df_mensajes[\"message_date\"].dt.month_name()])\n",
    "    .size()\n",
    "    .reset_index(name=\"total_mensajes\")\n",
    ")\n",
    "df_mensajes_usuarios_mes"
   ]
  },
  {
   "cell_type": "code",
   "execution_count": 27,
   "metadata": {
    "id": "H1AqN2eG0q1H"
   },
   "outputs": [
    {
     "data": {
      "text/html": [
       "<div>\n",
       "<style scoped>\n",
       "    .dataframe tbody tr th:only-of-type {\n",
       "        vertical-align: middle;\n",
       "    }\n",
       "\n",
       "    .dataframe tbody tr th {\n",
       "        vertical-align: top;\n",
       "    }\n",
       "\n",
       "    .dataframe thead th {\n",
       "        text-align: right;\n",
       "    }\n",
       "</style>\n",
       "<table border=\"1\" class=\"dataframe\">\n",
       "  <thead>\n",
       "    <tr style=\"text-align: right;\">\n",
       "      <th></th>\n",
       "      <th>user_id</th>\n",
       "      <th>session_date</th>\n",
       "      <th>total_gb</th>\n",
       "    </tr>\n",
       "  </thead>\n",
       "  <tbody>\n",
       "    <tr>\n",
       "      <th>0</th>\n",
       "      <td>1000</td>\n",
       "      <td>December</td>\n",
       "      <td>4.0</td>\n",
       "    </tr>\n",
       "    <tr>\n",
       "      <th>1</th>\n",
       "      <td>1001</td>\n",
       "      <td>August</td>\n",
       "      <td>21.0</td>\n",
       "    </tr>\n",
       "    <tr>\n",
       "      <th>2</th>\n",
       "      <td>1001</td>\n",
       "      <td>December</td>\n",
       "      <td>55.0</td>\n",
       "    </tr>\n",
       "    <tr>\n",
       "      <th>3</th>\n",
       "      <td>1001</td>\n",
       "      <td>November</td>\n",
       "      <td>49.0</td>\n",
       "    </tr>\n",
       "    <tr>\n",
       "      <th>4</th>\n",
       "      <td>1001</td>\n",
       "      <td>October</td>\n",
       "      <td>50.0</td>\n",
       "    </tr>\n",
       "    <tr>\n",
       "      <th>...</th>\n",
       "      <td>...</td>\n",
       "      <td>...</td>\n",
       "      <td>...</td>\n",
       "    </tr>\n",
       "    <tr>\n",
       "      <th>2272</th>\n",
       "      <td>1498</td>\n",
       "      <td>September</td>\n",
       "      <td>52.0</td>\n",
       "    </tr>\n",
       "    <tr>\n",
       "      <th>2273</th>\n",
       "      <td>1499</td>\n",
       "      <td>December</td>\n",
       "      <td>58.0</td>\n",
       "    </tr>\n",
       "    <tr>\n",
       "      <th>2274</th>\n",
       "      <td>1499</td>\n",
       "      <td>November</td>\n",
       "      <td>43.0</td>\n",
       "    </tr>\n",
       "    <tr>\n",
       "      <th>2275</th>\n",
       "      <td>1499</td>\n",
       "      <td>October</td>\n",
       "      <td>52.0</td>\n",
       "    </tr>\n",
       "    <tr>\n",
       "      <th>2276</th>\n",
       "      <td>1499</td>\n",
       "      <td>September</td>\n",
       "      <td>37.0</td>\n",
       "    </tr>\n",
       "  </tbody>\n",
       "</table>\n",
       "<p>2277 rows × 3 columns</p>\n",
       "</div>"
      ],
      "text/plain": [
       "      user_id session_date  total_gb\n",
       "0        1000     December       4.0\n",
       "1        1001       August      21.0\n",
       "2        1001     December      55.0\n",
       "3        1001     November      49.0\n",
       "4        1001      October      50.0\n",
       "...       ...          ...       ...\n",
       "2272     1498    September      52.0\n",
       "2273     1499     December      58.0\n",
       "2274     1499     November      43.0\n",
       "2275     1499      October      52.0\n",
       "2276     1499    September      37.0\n",
       "\n",
       "[2277 rows x 3 columns]"
      ]
     },
     "execution_count": 27,
     "metadata": {},
     "output_type": "execute_result"
    }
   ],
   "source": [
    "# Calcula el volumen del tráfico de Internet usado por cada usuario al mes. Guarda el resultado.\n",
    "df_trafico_usuario_mes = (\n",
    "    df_internet.groupby([\"user_id\", df_internet[\"session_date\"].dt.month_name()])[\"gb_used\"]\n",
    "    .sum()\n",
    "    .reset_index(name=\"total_gb\")\n",
    ")\n",
    "df_trafico_usuario_mes"
   ]
  },
  {
   "cell_type": "markdown",
   "metadata": {
    "id": "VDfYXnj80q1H"
   },
   "source": [
    "[Junta los datos agregados en un DataFrame para que haya un registro que represente lo que consumió un usuario único en un mes determinado.]"
   ]
  },
  {
   "cell_type": "code",
   "execution_count": 28,
   "metadata": {
    "id": "FW99ykyf0q1H"
   },
   "outputs": [
    {
     "data": {
      "text/html": [
       "<div>\n",
       "<style scoped>\n",
       "    .dataframe tbody tr th:only-of-type {\n",
       "        vertical-align: middle;\n",
       "    }\n",
       "\n",
       "    .dataframe tbody tr th {\n",
       "        vertical-align: top;\n",
       "    }\n",
       "\n",
       "    .dataframe thead th {\n",
       "        text-align: right;\n",
       "    }\n",
       "</style>\n",
       "<table border=\"1\" class=\"dataframe\">\n",
       "  <thead>\n",
       "    <tr style=\"text-align: right;\">\n",
       "      <th></th>\n",
       "      <th>user_id</th>\n",
       "      <th>mes</th>\n",
       "      <th>total_llamadas</th>\n",
       "      <th>total_minutos</th>\n",
       "      <th>total_mensajes</th>\n",
       "      <th>total_gb</th>\n",
       "    </tr>\n",
       "  </thead>\n",
       "  <tbody>\n",
       "    <tr>\n",
       "      <th>0</th>\n",
       "      <td>1000</td>\n",
       "      <td>December</td>\n",
       "      <td>16</td>\n",
       "      <td>118.46</td>\n",
       "      <td>11</td>\n",
       "      <td>4.0</td>\n",
       "    </tr>\n",
       "    <tr>\n",
       "      <th>1</th>\n",
       "      <td>1001</td>\n",
       "      <td>August</td>\n",
       "      <td>27</td>\n",
       "      <td>173.88</td>\n",
       "      <td>30</td>\n",
       "      <td>21.0</td>\n",
       "    </tr>\n",
       "    <tr>\n",
       "      <th>2</th>\n",
       "      <td>1001</td>\n",
       "      <td>December</td>\n",
       "      <td>56</td>\n",
       "      <td>397.57</td>\n",
       "      <td>44</td>\n",
       "      <td>55.0</td>\n",
       "    </tr>\n",
       "    <tr>\n",
       "      <th>3</th>\n",
       "      <td>1001</td>\n",
       "      <td>November</td>\n",
       "      <td>64</td>\n",
       "      <td>409.27</td>\n",
       "      <td>36</td>\n",
       "      <td>49.0</td>\n",
       "    </tr>\n",
       "    <tr>\n",
       "      <th>4</th>\n",
       "      <td>1001</td>\n",
       "      <td>October</td>\n",
       "      <td>65</td>\n",
       "      <td>380.35</td>\n",
       "      <td>53</td>\n",
       "      <td>50.0</td>\n",
       "    </tr>\n",
       "    <tr>\n",
       "      <th>...</th>\n",
       "      <td>...</td>\n",
       "      <td>...</td>\n",
       "      <td>...</td>\n",
       "      <td>...</td>\n",
       "      <td>...</td>\n",
       "      <td>...</td>\n",
       "    </tr>\n",
       "    <tr>\n",
       "      <th>1754</th>\n",
       "      <td>1496</td>\n",
       "      <td>December</td>\n",
       "      <td>40</td>\n",
       "      <td>281.30</td>\n",
       "      <td>11</td>\n",
       "      <td>41.0</td>\n",
       "    </tr>\n",
       "    <tr>\n",
       "      <th>1755</th>\n",
       "      <td>1496</td>\n",
       "      <td>November</td>\n",
       "      <td>39</td>\n",
       "      <td>293.50</td>\n",
       "      <td>13</td>\n",
       "      <td>27.0</td>\n",
       "    </tr>\n",
       "    <tr>\n",
       "      <th>1756</th>\n",
       "      <td>1496</td>\n",
       "      <td>October</td>\n",
       "      <td>46</td>\n",
       "      <td>304.60</td>\n",
       "      <td>18</td>\n",
       "      <td>41.0</td>\n",
       "    </tr>\n",
       "    <tr>\n",
       "      <th>1757</th>\n",
       "      <td>1496</td>\n",
       "      <td>September</td>\n",
       "      <td>52</td>\n",
       "      <td>393.51</td>\n",
       "      <td>21</td>\n",
       "      <td>42.0</td>\n",
       "    </tr>\n",
       "    <tr>\n",
       "      <th>1758</th>\n",
       "      <td>1497</td>\n",
       "      <td>December</td>\n",
       "      <td>54</td>\n",
       "      <td>279.14</td>\n",
       "      <td>50</td>\n",
       "      <td>28.0</td>\n",
       "    </tr>\n",
       "  </tbody>\n",
       "</table>\n",
       "<p>1759 rows × 6 columns</p>\n",
       "</div>"
      ],
      "text/plain": [
       "      user_id        mes  total_llamadas  total_minutos  total_mensajes  \\\n",
       "0        1000   December              16         118.46              11   \n",
       "1        1001     August              27         173.88              30   \n",
       "2        1001   December              56         397.57              44   \n",
       "3        1001   November              64         409.27              36   \n",
       "4        1001    October              65         380.35              53   \n",
       "...       ...        ...             ...            ...             ...   \n",
       "1754     1496   December              40         281.30              11   \n",
       "1755     1496   November              39         293.50              13   \n",
       "1756     1496    October              46         304.60              18   \n",
       "1757     1496  September              52         393.51              21   \n",
       "1758     1497   December              54         279.14              50   \n",
       "\n",
       "      total_gb  \n",
       "0          4.0  \n",
       "1         21.0  \n",
       "2         55.0  \n",
       "3         49.0  \n",
       "4         50.0  \n",
       "...        ...  \n",
       "1754      41.0  \n",
       "1755      27.0  \n",
       "1756      41.0  \n",
       "1757      42.0  \n",
       "1758      28.0  \n",
       "\n",
       "[1759 rows x 6 columns]"
      ]
     },
     "execution_count": 28,
     "metadata": {},
     "output_type": "execute_result"
    }
   ],
   "source": [
    "# Fusiona los datos de llamadas, minutos, mensajes e Internet con base en user_id y month\n",
    "merge1 = pd.merge(df_llamadas_usuario, df_minutos_usuario_mes, on=[\"user_id\", \"call_date\"])\n",
    "merge2 = pd.merge(\n",
    "    merge1, df_mensajes_usuarios_mes, left_on=[\"user_id\", \"call_date\"], right_on=[\"user_id\", \"message_date\"]\n",
    ")\n",
    "merge2.drop(columns=[\"message_date\"], inplace=True)\n",
    "df_actividad_mensual_usuarios = pd.merge(\n",
    "    merge2, df_trafico_usuario_mes, left_on=[\"user_id\", \"call_date\"], right_on=[\"user_id\", \"session_date\"]\n",
    ")\n",
    "df_actividad_mensual_usuarios.drop(columns=\"session_date\", inplace=True)\n",
    "df_actividad_mensual_usuarios.rename(columns={\"call_date\": \"mes\"}, inplace=True)\n",
    "df_actividad_mensual_usuarios"
   ]
  },
  {
   "cell_type": "code",
   "execution_count": 29,
   "metadata": {
    "id": "0dNOXHag0q1H"
   },
   "outputs": [
    {
     "data": {
      "text/html": [
       "<div>\n",
       "<style scoped>\n",
       "    .dataframe tbody tr th:only-of-type {\n",
       "        vertical-align: middle;\n",
       "    }\n",
       "\n",
       "    .dataframe tbody tr th {\n",
       "        vertical-align: top;\n",
       "    }\n",
       "\n",
       "    .dataframe thead th {\n",
       "        text-align: right;\n",
       "    }\n",
       "</style>\n",
       "<table border=\"1\" class=\"dataframe\">\n",
       "  <thead>\n",
       "    <tr style=\"text-align: right;\">\n",
       "      <th></th>\n",
       "      <th>user_id</th>\n",
       "      <th>mes</th>\n",
       "      <th>total_llamadas</th>\n",
       "      <th>total_minutos</th>\n",
       "      <th>total_mensajes</th>\n",
       "      <th>total_gb</th>\n",
       "      <th>plan</th>\n",
       "    </tr>\n",
       "  </thead>\n",
       "  <tbody>\n",
       "    <tr>\n",
       "      <th>0</th>\n",
       "      <td>1000</td>\n",
       "      <td>December</td>\n",
       "      <td>16</td>\n",
       "      <td>118.46</td>\n",
       "      <td>11</td>\n",
       "      <td>4.0</td>\n",
       "      <td>ultimate</td>\n",
       "    </tr>\n",
       "    <tr>\n",
       "      <th>1</th>\n",
       "      <td>1001</td>\n",
       "      <td>August</td>\n",
       "      <td>27</td>\n",
       "      <td>173.88</td>\n",
       "      <td>30</td>\n",
       "      <td>21.0</td>\n",
       "      <td>surf</td>\n",
       "    </tr>\n",
       "    <tr>\n",
       "      <th>2</th>\n",
       "      <td>1001</td>\n",
       "      <td>December</td>\n",
       "      <td>56</td>\n",
       "      <td>397.57</td>\n",
       "      <td>44</td>\n",
       "      <td>55.0</td>\n",
       "      <td>surf</td>\n",
       "    </tr>\n",
       "    <tr>\n",
       "      <th>3</th>\n",
       "      <td>1001</td>\n",
       "      <td>November</td>\n",
       "      <td>64</td>\n",
       "      <td>409.27</td>\n",
       "      <td>36</td>\n",
       "      <td>49.0</td>\n",
       "      <td>surf</td>\n",
       "    </tr>\n",
       "    <tr>\n",
       "      <th>4</th>\n",
       "      <td>1001</td>\n",
       "      <td>October</td>\n",
       "      <td>65</td>\n",
       "      <td>380.35</td>\n",
       "      <td>53</td>\n",
       "      <td>50.0</td>\n",
       "      <td>surf</td>\n",
       "    </tr>\n",
       "    <tr>\n",
       "      <th>...</th>\n",
       "      <td>...</td>\n",
       "      <td>...</td>\n",
       "      <td>...</td>\n",
       "      <td>...</td>\n",
       "      <td>...</td>\n",
       "      <td>...</td>\n",
       "      <td>...</td>\n",
       "    </tr>\n",
       "    <tr>\n",
       "      <th>1754</th>\n",
       "      <td>1496</td>\n",
       "      <td>December</td>\n",
       "      <td>40</td>\n",
       "      <td>281.30</td>\n",
       "      <td>11</td>\n",
       "      <td>41.0</td>\n",
       "      <td>surf</td>\n",
       "    </tr>\n",
       "    <tr>\n",
       "      <th>1755</th>\n",
       "      <td>1496</td>\n",
       "      <td>November</td>\n",
       "      <td>39</td>\n",
       "      <td>293.50</td>\n",
       "      <td>13</td>\n",
       "      <td>27.0</td>\n",
       "      <td>surf</td>\n",
       "    </tr>\n",
       "    <tr>\n",
       "      <th>1756</th>\n",
       "      <td>1496</td>\n",
       "      <td>October</td>\n",
       "      <td>46</td>\n",
       "      <td>304.60</td>\n",
       "      <td>18</td>\n",
       "      <td>41.0</td>\n",
       "      <td>surf</td>\n",
       "    </tr>\n",
       "    <tr>\n",
       "      <th>1757</th>\n",
       "      <td>1496</td>\n",
       "      <td>September</td>\n",
       "      <td>52</td>\n",
       "      <td>393.51</td>\n",
       "      <td>21</td>\n",
       "      <td>42.0</td>\n",
       "      <td>surf</td>\n",
       "    </tr>\n",
       "    <tr>\n",
       "      <th>1758</th>\n",
       "      <td>1497</td>\n",
       "      <td>December</td>\n",
       "      <td>54</td>\n",
       "      <td>279.14</td>\n",
       "      <td>50</td>\n",
       "      <td>28.0</td>\n",
       "      <td>ultimate</td>\n",
       "    </tr>\n",
       "  </tbody>\n",
       "</table>\n",
       "<p>1759 rows × 7 columns</p>\n",
       "</div>"
      ],
      "text/plain": [
       "      user_id        mes  total_llamadas  total_minutos  total_mensajes  \\\n",
       "0        1000   December              16         118.46              11   \n",
       "1        1001     August              27         173.88              30   \n",
       "2        1001   December              56         397.57              44   \n",
       "3        1001   November              64         409.27              36   \n",
       "4        1001    October              65         380.35              53   \n",
       "...       ...        ...             ...            ...             ...   \n",
       "1754     1496   December              40         281.30              11   \n",
       "1755     1496   November              39         293.50              13   \n",
       "1756     1496    October              46         304.60              18   \n",
       "1757     1496  September              52         393.51              21   \n",
       "1758     1497   December              54         279.14              50   \n",
       "\n",
       "      total_gb      plan  \n",
       "0          4.0  ultimate  \n",
       "1         21.0      surf  \n",
       "2         55.0      surf  \n",
       "3         49.0      surf  \n",
       "4         50.0      surf  \n",
       "...        ...       ...  \n",
       "1754      41.0      surf  \n",
       "1755      27.0      surf  \n",
       "1756      41.0      surf  \n",
       "1757      42.0      surf  \n",
       "1758      28.0  ultimate  \n",
       "\n",
       "[1759 rows x 7 columns]"
      ]
     },
     "execution_count": 29,
     "metadata": {},
     "output_type": "execute_result"
    }
   ],
   "source": [
    "# Añade la información de la tarifa\n",
    "df_actividad_mensual_usuarios = pd.merge(\n",
    "    df_actividad_mensual_usuarios,\n",
    "    df_usuarios[['user_id', 'plan']],\n",
    "    on='user_id',\n",
    "    how='left'\n",
    ")\n",
    "df_actividad_mensual_usuarios"
   ]
  },
  {
   "cell_type": "markdown",
   "metadata": {},
   "source": [
    "<div class=\"alert alert-block alert-success\">\n",
    "<b>Comentario del revisor</b> <a class=\"tocSkip\"></a>\n",
    "\n",
    "Muy buen trabajo!! el merge es correcto para unir todas las bases trabajadas.\n",
    "    \n",
    "</div>"
   ]
  },
  {
   "cell_type": "markdown",
   "metadata": {
    "id": "1IwGo4wg0q1I"
   },
   "source": [
    "[Calcula los ingresos mensuales por usuario (resta el límite del paquete gratuito del número total de llamadas, mensajes de texto y datos; multiplica el resultado por el valor del plan de llamadas; añade la tarifa mensual en función del plan de llamadas). Nota: Dadas las condiciones del plan, ¡esto podría no ser tan trivial como un par de líneas! Así que no pasa nada si dedicas algo de tiempo a ello.]"
   ]
  },
  {
   "cell_type": "code",
   "execution_count": 30,
   "metadata": {
    "id": "5FGCf_c60q1I"
   },
   "outputs": [
    {
     "data": {
      "text/html": [
       "<div>\n",
       "<style scoped>\n",
       "    .dataframe tbody tr th:only-of-type {\n",
       "        vertical-align: middle;\n",
       "    }\n",
       "\n",
       "    .dataframe tbody tr th {\n",
       "        vertical-align: top;\n",
       "    }\n",
       "\n",
       "    .dataframe thead th {\n",
       "        text-align: right;\n",
       "    }\n",
       "</style>\n",
       "<table border=\"1\" class=\"dataframe\">\n",
       "  <thead>\n",
       "    <tr style=\"text-align: right;\">\n",
       "      <th></th>\n",
       "      <th>user_id</th>\n",
       "      <th>mes</th>\n",
       "      <th>total_llamadas</th>\n",
       "      <th>total_minutos</th>\n",
       "      <th>total_mensajes</th>\n",
       "      <th>total_gb</th>\n",
       "      <th>plan</th>\n",
       "      <th>messages_included</th>\n",
       "      <th>gb_per_month_included</th>\n",
       "      <th>minutes_included</th>\n",
       "      <th>usd_monthly_pay</th>\n",
       "      <th>usd_per_gb</th>\n",
       "      <th>usd_per_message</th>\n",
       "      <th>usd_per_minute</th>\n",
       "      <th>exceso_minutos</th>\n",
       "      <th>exceso_mensajes</th>\n",
       "      <th>exceso_mb</th>\n",
       "      <th>exceso_gb</th>\n",
       "      <th>costo_total</th>\n",
       "    </tr>\n",
       "  </thead>\n",
       "  <tbody>\n",
       "    <tr>\n",
       "      <th>0</th>\n",
       "      <td>1000</td>\n",
       "      <td>December</td>\n",
       "      <td>16</td>\n",
       "      <td>118.46</td>\n",
       "      <td>11</td>\n",
       "      <td>4.0</td>\n",
       "      <td>ultimate</td>\n",
       "      <td>1000</td>\n",
       "      <td>30.0</td>\n",
       "      <td>3000</td>\n",
       "      <td>70.0</td>\n",
       "      <td>7.0</td>\n",
       "      <td>0.01</td>\n",
       "      <td>0.01</td>\n",
       "      <td>0.0</td>\n",
       "      <td>0</td>\n",
       "      <td>0.0</td>\n",
       "      <td>0.0</td>\n",
       "      <td>70.00</td>\n",
       "    </tr>\n",
       "    <tr>\n",
       "      <th>1</th>\n",
       "      <td>1001</td>\n",
       "      <td>August</td>\n",
       "      <td>27</td>\n",
       "      <td>173.88</td>\n",
       "      <td>30</td>\n",
       "      <td>21.0</td>\n",
       "      <td>surf</td>\n",
       "      <td>50</td>\n",
       "      <td>15.0</td>\n",
       "      <td>500</td>\n",
       "      <td>20.0</td>\n",
       "      <td>10.0</td>\n",
       "      <td>0.03</td>\n",
       "      <td>0.03</td>\n",
       "      <td>0.0</td>\n",
       "      <td>0</td>\n",
       "      <td>6.0</td>\n",
       "      <td>1.0</td>\n",
       "      <td>30.00</td>\n",
       "    </tr>\n",
       "    <tr>\n",
       "      <th>2</th>\n",
       "      <td>1001</td>\n",
       "      <td>December</td>\n",
       "      <td>56</td>\n",
       "      <td>397.57</td>\n",
       "      <td>44</td>\n",
       "      <td>55.0</td>\n",
       "      <td>surf</td>\n",
       "      <td>50</td>\n",
       "      <td>15.0</td>\n",
       "      <td>500</td>\n",
       "      <td>20.0</td>\n",
       "      <td>10.0</td>\n",
       "      <td>0.03</td>\n",
       "      <td>0.03</td>\n",
       "      <td>0.0</td>\n",
       "      <td>0</td>\n",
       "      <td>40.0</td>\n",
       "      <td>1.0</td>\n",
       "      <td>30.00</td>\n",
       "    </tr>\n",
       "    <tr>\n",
       "      <th>3</th>\n",
       "      <td>1001</td>\n",
       "      <td>November</td>\n",
       "      <td>64</td>\n",
       "      <td>409.27</td>\n",
       "      <td>36</td>\n",
       "      <td>49.0</td>\n",
       "      <td>surf</td>\n",
       "      <td>50</td>\n",
       "      <td>15.0</td>\n",
       "      <td>500</td>\n",
       "      <td>20.0</td>\n",
       "      <td>10.0</td>\n",
       "      <td>0.03</td>\n",
       "      <td>0.03</td>\n",
       "      <td>0.0</td>\n",
       "      <td>0</td>\n",
       "      <td>34.0</td>\n",
       "      <td>1.0</td>\n",
       "      <td>30.00</td>\n",
       "    </tr>\n",
       "    <tr>\n",
       "      <th>4</th>\n",
       "      <td>1001</td>\n",
       "      <td>October</td>\n",
       "      <td>65</td>\n",
       "      <td>380.35</td>\n",
       "      <td>53</td>\n",
       "      <td>50.0</td>\n",
       "      <td>surf</td>\n",
       "      <td>50</td>\n",
       "      <td>15.0</td>\n",
       "      <td>500</td>\n",
       "      <td>20.0</td>\n",
       "      <td>10.0</td>\n",
       "      <td>0.03</td>\n",
       "      <td>0.03</td>\n",
       "      <td>0.0</td>\n",
       "      <td>3</td>\n",
       "      <td>35.0</td>\n",
       "      <td>1.0</td>\n",
       "      <td>30.09</td>\n",
       "    </tr>\n",
       "    <tr>\n",
       "      <th>...</th>\n",
       "      <td>...</td>\n",
       "      <td>...</td>\n",
       "      <td>...</td>\n",
       "      <td>...</td>\n",
       "      <td>...</td>\n",
       "      <td>...</td>\n",
       "      <td>...</td>\n",
       "      <td>...</td>\n",
       "      <td>...</td>\n",
       "      <td>...</td>\n",
       "      <td>...</td>\n",
       "      <td>...</td>\n",
       "      <td>...</td>\n",
       "      <td>...</td>\n",
       "      <td>...</td>\n",
       "      <td>...</td>\n",
       "      <td>...</td>\n",
       "      <td>...</td>\n",
       "      <td>...</td>\n",
       "    </tr>\n",
       "    <tr>\n",
       "      <th>1754</th>\n",
       "      <td>1496</td>\n",
       "      <td>December</td>\n",
       "      <td>40</td>\n",
       "      <td>281.30</td>\n",
       "      <td>11</td>\n",
       "      <td>41.0</td>\n",
       "      <td>surf</td>\n",
       "      <td>50</td>\n",
       "      <td>15.0</td>\n",
       "      <td>500</td>\n",
       "      <td>20.0</td>\n",
       "      <td>10.0</td>\n",
       "      <td>0.03</td>\n",
       "      <td>0.03</td>\n",
       "      <td>0.0</td>\n",
       "      <td>0</td>\n",
       "      <td>26.0</td>\n",
       "      <td>1.0</td>\n",
       "      <td>30.00</td>\n",
       "    </tr>\n",
       "    <tr>\n",
       "      <th>1755</th>\n",
       "      <td>1496</td>\n",
       "      <td>November</td>\n",
       "      <td>39</td>\n",
       "      <td>293.50</td>\n",
       "      <td>13</td>\n",
       "      <td>27.0</td>\n",
       "      <td>surf</td>\n",
       "      <td>50</td>\n",
       "      <td>15.0</td>\n",
       "      <td>500</td>\n",
       "      <td>20.0</td>\n",
       "      <td>10.0</td>\n",
       "      <td>0.03</td>\n",
       "      <td>0.03</td>\n",
       "      <td>0.0</td>\n",
       "      <td>0</td>\n",
       "      <td>12.0</td>\n",
       "      <td>1.0</td>\n",
       "      <td>30.00</td>\n",
       "    </tr>\n",
       "    <tr>\n",
       "      <th>1756</th>\n",
       "      <td>1496</td>\n",
       "      <td>October</td>\n",
       "      <td>46</td>\n",
       "      <td>304.60</td>\n",
       "      <td>18</td>\n",
       "      <td>41.0</td>\n",
       "      <td>surf</td>\n",
       "      <td>50</td>\n",
       "      <td>15.0</td>\n",
       "      <td>500</td>\n",
       "      <td>20.0</td>\n",
       "      <td>10.0</td>\n",
       "      <td>0.03</td>\n",
       "      <td>0.03</td>\n",
       "      <td>0.0</td>\n",
       "      <td>0</td>\n",
       "      <td>26.0</td>\n",
       "      <td>1.0</td>\n",
       "      <td>30.00</td>\n",
       "    </tr>\n",
       "    <tr>\n",
       "      <th>1757</th>\n",
       "      <td>1496</td>\n",
       "      <td>September</td>\n",
       "      <td>52</td>\n",
       "      <td>393.51</td>\n",
       "      <td>21</td>\n",
       "      <td>42.0</td>\n",
       "      <td>surf</td>\n",
       "      <td>50</td>\n",
       "      <td>15.0</td>\n",
       "      <td>500</td>\n",
       "      <td>20.0</td>\n",
       "      <td>10.0</td>\n",
       "      <td>0.03</td>\n",
       "      <td>0.03</td>\n",
       "      <td>0.0</td>\n",
       "      <td>0</td>\n",
       "      <td>27.0</td>\n",
       "      <td>1.0</td>\n",
       "      <td>30.00</td>\n",
       "    </tr>\n",
       "    <tr>\n",
       "      <th>1758</th>\n",
       "      <td>1497</td>\n",
       "      <td>December</td>\n",
       "      <td>54</td>\n",
       "      <td>279.14</td>\n",
       "      <td>50</td>\n",
       "      <td>28.0</td>\n",
       "      <td>ultimate</td>\n",
       "      <td>1000</td>\n",
       "      <td>30.0</td>\n",
       "      <td>3000</td>\n",
       "      <td>70.0</td>\n",
       "      <td>7.0</td>\n",
       "      <td>0.01</td>\n",
       "      <td>0.01</td>\n",
       "      <td>0.0</td>\n",
       "      <td>0</td>\n",
       "      <td>0.0</td>\n",
       "      <td>0.0</td>\n",
       "      <td>70.00</td>\n",
       "    </tr>\n",
       "  </tbody>\n",
       "</table>\n",
       "<p>1759 rows × 19 columns</p>\n",
       "</div>"
      ],
      "text/plain": [
       "      user_id        mes  total_llamadas  total_minutos  total_mensajes  \\\n",
       "0        1000   December              16         118.46              11   \n",
       "1        1001     August              27         173.88              30   \n",
       "2        1001   December              56         397.57              44   \n",
       "3        1001   November              64         409.27              36   \n",
       "4        1001    October              65         380.35              53   \n",
       "...       ...        ...             ...            ...             ...   \n",
       "1754     1496   December              40         281.30              11   \n",
       "1755     1496   November              39         293.50              13   \n",
       "1756     1496    October              46         304.60              18   \n",
       "1757     1496  September              52         393.51              21   \n",
       "1758     1497   December              54         279.14              50   \n",
       "\n",
       "      total_gb      plan  messages_included  gb_per_month_included  \\\n",
       "0          4.0  ultimate               1000                   30.0   \n",
       "1         21.0      surf                 50                   15.0   \n",
       "2         55.0      surf                 50                   15.0   \n",
       "3         49.0      surf                 50                   15.0   \n",
       "4         50.0      surf                 50                   15.0   \n",
       "...        ...       ...                ...                    ...   \n",
       "1754      41.0      surf                 50                   15.0   \n",
       "1755      27.0      surf                 50                   15.0   \n",
       "1756      41.0      surf                 50                   15.0   \n",
       "1757      42.0      surf                 50                   15.0   \n",
       "1758      28.0  ultimate               1000                   30.0   \n",
       "\n",
       "      minutes_included  usd_monthly_pay  usd_per_gb  usd_per_message  \\\n",
       "0                 3000             70.0         7.0             0.01   \n",
       "1                  500             20.0        10.0             0.03   \n",
       "2                  500             20.0        10.0             0.03   \n",
       "3                  500             20.0        10.0             0.03   \n",
       "4                  500             20.0        10.0             0.03   \n",
       "...                ...              ...         ...              ...   \n",
       "1754               500             20.0        10.0             0.03   \n",
       "1755               500             20.0        10.0             0.03   \n",
       "1756               500             20.0        10.0             0.03   \n",
       "1757               500             20.0        10.0             0.03   \n",
       "1758              3000             70.0         7.0             0.01   \n",
       "\n",
       "      usd_per_minute  exceso_minutos  exceso_mensajes  exceso_mb  exceso_gb  \\\n",
       "0               0.01             0.0                0        0.0        0.0   \n",
       "1               0.03             0.0                0        6.0        1.0   \n",
       "2               0.03             0.0                0       40.0        1.0   \n",
       "3               0.03             0.0                0       34.0        1.0   \n",
       "4               0.03             0.0                3       35.0        1.0   \n",
       "...              ...             ...              ...        ...        ...   \n",
       "1754            0.03             0.0                0       26.0        1.0   \n",
       "1755            0.03             0.0                0       12.0        1.0   \n",
       "1756            0.03             0.0                0       26.0        1.0   \n",
       "1757            0.03             0.0                0       27.0        1.0   \n",
       "1758            0.01             0.0                0        0.0        0.0   \n",
       "\n",
       "      costo_total  \n",
       "0           70.00  \n",
       "1           30.00  \n",
       "2           30.00  \n",
       "3           30.00  \n",
       "4           30.09  \n",
       "...           ...  \n",
       "1754        30.00  \n",
       "1755        30.00  \n",
       "1756        30.00  \n",
       "1757        30.00  \n",
       "1758        70.00  \n",
       "\n",
       "[1759 rows x 19 columns]"
      ]
     },
     "execution_count": 30,
     "metadata": {},
     "output_type": "execute_result"
    }
   ],
   "source": [
    "# Calcula el ingreso mensual para cada usuario\n",
    "\n",
    "# Une actividad de usuarios con sus planes tarifarios.\n",
    "df_costos_mensuales = df_actividad_mensual_usuarios.merge(\n",
    "    df_tarifas,\n",
    "    left_on='plan',\n",
    "    right_on='plan_name',\n",
    "    how='left'\n",
    ")\n",
    "\n",
    "# Calcula excesos (solo se cobra si se pasa el límite).\n",
    "df_costos_mensuales['exceso_minutos'] = (\n",
    "    df_costos_mensuales['total_minutos'] - df_costos_mensuales['minutes_included']\n",
    ").clip(lower=0)\n",
    "\n",
    "df_costos_mensuales['exceso_mensajes'] = (\n",
    "    df_costos_mensuales['total_mensajes'] - df_costos_mensuales['messages_included']\n",
    ").clip(lower=0)\n",
    "\n",
    "df_costos_mensuales['exceso_mb'] = (\n",
    "    df_costos_mensuales['total_gb'] - df_costos_mensuales['gb_per_month_included']\n",
    ").clip(lower=0)\n",
    "\n",
    "# Convierte exceso de MB a GB para aplicar el precio por GB.\n",
    "df_costos_mensuales['exceso_gb'] = np.ceil(df_costos_mensuales['exceso_mb'] / 1024)\n",
    "\n",
    "# Calcula el costo total.\n",
    "df_costos_mensuales['costo_total'] = (\n",
    "    df_costos_mensuales['usd_monthly_pay'] +\n",
    "    df_costos_mensuales['exceso_minutos'] * df_costos_mensuales['usd_per_minute'] +\n",
    "    df_costos_mensuales['exceso_mensajes'] * df_costos_mensuales['usd_per_message'] +\n",
    "    df_costos_mensuales['exceso_gb'] * df_costos_mensuales['usd_per_gb']\n",
    ")\n",
    "df_costos_mensuales.drop(columns=\"plan_name\", inplace=True)\n",
    "df_costos_mensuales"
   ]
  },
  {
   "cell_type": "markdown",
   "metadata": {},
   "source": [
    "<div class=\"alert alert-block alert-danger\">\n",
    "<b>Comentario revisor</b> <a class=\"tocSkip\"></a>\n",
    "\n",
    "\n",
    "Recuerda que para este punto, es necesario que ya tengamos los valores redondeados de la duración de las llamadas y redondear la transformación de megabytes a gigabytes. Esto cobra importancia dado que estamos calculando por cuanto se paso cada usuario, entonces el no redondear puede alterar este valor.\n",
    "</div>"
   ]
  },
  {
   "cell_type": "markdown",
   "metadata": {},
   "source": [
    "<div class=\"alert alert-block alert-success\">\n",
    "<b>Comentario revisor</b> <a class=\"tocSkip\"></a>\n",
    "\n",
    "Excelente trabajo con el ajuste!"
   ]
  },
  {
   "cell_type": "markdown",
   "metadata": {
    "id": "-jtyHzJb0q1I"
   },
   "source": [
    "## Estudia el comportamiento de usuario"
   ]
  },
  {
   "cell_type": "markdown",
   "metadata": {
    "id": "AxU3Y0N70q1J"
   },
   "source": [
    "[Calcula algunas estadísticas descriptivas para los datos agregados y fusionados que nos sean útiles y que muestren un panorama general captado por los datos. Dibuja gráficos útiles para facilitar la comprensión. Dado que la tarea principal es comparar las tarifas y decidir cuál es más rentable, las estadísticas y gráficas deben calcularse por tarifa.]\n",
    "\n",
    "[En los comentarios hallarás pistas relevantes para las llamadas, pero no las hay para los mensajes e Internet. Sin embargo, el principio del estudio estadístico que se aplica para ellos es el mismo que para las llamadas.]"
   ]
  },
  {
   "cell_type": "markdown",
   "metadata": {
    "id": "vtW4CJEe0q1J"
   },
   "source": [
    "### Llamadas"
   ]
  },
  {
   "cell_type": "code",
   "execution_count": 31,
   "metadata": {
    "id": "Jf5v5--k0q1J"
   },
   "outputs": [
    {
     "name": "stderr",
     "output_type": "stream",
     "text": [
      "/.venv/lib/python3.9/site-packages/pandas/core/indexing.py:1676: SettingWithCopyWarning: \n",
      "A value is trying to be set on a copy of a slice from a DataFrame.\n",
      "Try using .loc[row_indexer,col_indexer] = value instead\n",
      "\n",
      "See the caveats in the documentation: https://pandas.pydata.org/pandas-docs/stable/user_guide/indexing.html#returning-a-view-versus-a-copy\n",
      "  self._setitem_single_column(ilocs[0], value, pi)\n"
     ]
    },
    {
     "data": {
      "image/png": "[encoded data removed]",
      "text/plain": [
       "<Figure size 1200x600 with 1 Axes>"
      ]
     },
     "metadata": {},
     "output_type": "display_data"
    }
   ],
   "source": [
    "# Compara la duración promedio de llamadas por cada plan y por cada mes. Traza un gráfico de barras para visualizarla.\n",
    "\n",
    "# Agrupa por \"plan\" y \"mes\" y calcula el promedio de \"total_minutos\".\n",
    "promedio_llamadas_plan_mes = df_costos_mensuales.groupby([\"plan\", \"mes\"])[[\"total_minutos\"]].mean().reset_index()\n",
    "# Promedio de minutos para plan \"surf\".\n",
    "llamadas_plan_surf = promedio_llamadas_plan_mes.loc[promedio_llamadas_plan_mes[\"plan\"] == \"surf\"]\n",
    "# Promedio de minutos para plan \"ultimate\".\n",
    "llamadas_plan_ultimate = promedio_llamadas_plan_mes.loc[promedio_llamadas_plan_mes[\"plan\"] == \"ultimate\"]\n",
    "\n",
    "meses_ordenados = [\n",
    "    \"January\",\n",
    "    \"February\",\n",
    "    \"March\",\n",
    "    \"April\",\n",
    "    \"May\",\n",
    "    \"June\",\n",
    "    \"July\",\n",
    "    \"August\",\n",
    "    \"September\",\n",
    "    \"October\",\n",
    "    \"November\",\n",
    "    \"December\",\n",
    "]\n",
    "\n",
    "# Ordena el DataFrame por orden de los meses.\n",
    "llamadas_plan_surf.loc[:, \"mes\"] = pd.Categorical(llamadas_plan_surf[\"mes\"], categories=meses_ordenados, ordered=True)\n",
    "llamadas_plan_surf = llamadas_plan_surf.sort_values(\"mes\")\n",
    "\n",
    "# Ordena el DataFrame por orden de los meses.\n",
    "llamadas_plan_ultimate.loc[:, \"mes\"] = pd.Categorical(llamadas_plan_ultimate[\"mes\"], categories=meses_ordenados, ordered=True)\n",
    "llamadas_plan_ultimate = llamadas_plan_ultimate.sort_values(\"mes\")\n",
    "\n",
    "# Crea el gráfico de barras.\n",
    "plt.figure(figsize=(12, 6))\n",
    "\n",
    "# Grafica el plan \"surf\".\n",
    "plt.bar(llamadas_plan_surf[\"mes\"], llamadas_plan_surf[\"total_minutos\"], width=0.2, label=\"surf\", align=\"center\")\n",
    "\n",
    "# Grafica el plan \"ultimate\".\n",
    "plt.bar(\n",
    "    llamadas_plan_ultimate[\"mes\"], llamadas_plan_ultimate[\"total_minutos\"], width=0.2, label=\"ultimate\", align=\"edge\"\n",
    ")\n",
    "# Personalización del gráfico.\n",
    "plt.xlabel(\"Mes\")\n",
    "plt.ylabel(\"Total minutos\")\n",
    "plt.title(\"Comparación de minutos por mes para los planes Surf y Ultimate\")\n",
    "plt.legend(title=\"Planes\")\n",
    "\n",
    "# Mouestra el gráfico.\n",
    "plt.show()"
   ]
  },
  {
   "cell_type": "code",
   "execution_count": 32,
   "metadata": {
    "id": "QoLqW1S_0q1J"
   },
   "outputs": [],
   "source": [
    "# Compara el número de minutos mensuales que necesitan los usuarios de cada plan. Traza un histograma.\n",
    "\n"
   ]
  },
  {
   "cell_type": "markdown",
   "metadata": {
    "id": "bLS9T8OH0q1K"
   },
   "source": [
    "[Calcula la media y la variable de la duración de las llamadas para averiguar si los usuarios de los distintos planes se comportan de forma diferente al realizar sus llamadas.]"
   ]
  },
  {
   "cell_type": "code",
   "execution_count": 33,
   "metadata": {
    "id": "oSndbAnt0q1K"
   },
   "outputs": [
    {
     "name": "stdout",
     "output_type": "stream",
     "text": [
      "Media plan surf: 389.69 minutos\n",
      "Varianza plan surf: 3155.37 minutos²\n",
      "Media plan ultimate: 390.64 minutos\n",
      "Varianza plan ultimate: 5861.25 minutos²\n"
     ]
    }
   ],
   "source": [
    "# Calcula la media y la varianza de la duración mensual de llamadas.\n",
    "# Plan surf:\n",
    "media_plan_surf = llamadas_plan_surf[\"total_minutos\"].mean()\n",
    "varianza_plan_surf = llamadas_plan_surf[\"total_minutos\"].var()\n",
    "print(f\"Media plan surf: {media_plan_surf:.2f} minutos\")\n",
    "print(f\"Varianza plan surf: {varianza_plan_surf:.2f} minutos²\")\n",
    "\n",
    "# Plan ultimate:\n",
    "media_plan_ultimate = llamadas_plan_ultimate[\"total_minutos\"].mean()\n",
    "varianza_plan_ultimate = llamadas_plan_ultimate[\"total_minutos\"].var()\n",
    "print(f\"Media plan ultimate: {media_plan_ultimate:.2f} minutos\")\n",
    "print(f\"Varianza plan ultimate: {varianza_plan_ultimate:.2f} minutos²\")\n"
   ]
  },
  {
   "cell_type": "code",
   "execution_count": 34,
   "metadata": {
    "id": "nZzoRUKc0q1K"
   },
   "outputs": [
    {
     "data": {
      "image/png": "[encoded data removed]",
      "text/plain": [
       "<Figure size 1000x600 with 1 Axes>"
      ]
     },
     "metadata": {},
     "output_type": "display_data"
    }
   ],
   "source": [
    "# Traza un diagrama de caja para visualizar la distribución de la duración mensual de llamadas\n",
    "plt.figure(figsize=(10, 6))\n",
    "plt.boxplot([llamadas_plan_surf[\"total_minutos\"], llamadas_plan_ultimate[\"total_minutos\"]], labels=[\"Surf\", \"Ultimate\"])\n",
    "plt.ylabel(\"Minutos mensuales\")\n",
    "plt.title(\"Comparación de duración mensual de llamadas por plan\")\n",
    "plt.grid(True)\n",
    "plt.show()"
   ]
  },
  {
   "cell_type": "markdown",
   "metadata": {
    "id": "r627zBO50q1K"
   },
   "source": [
    "[Elabora las conclusiones sobre el comportamiento de los usuarios con respecto a las llamadas. ¿Su comportamiento varía en función del plan?]\n",
    "\n",
    "*R.- El plan ultimate tiene una mediana más alta que el plan surf, lo que indica que los usuarios de ultimate tienden a hablar más en promedio cada mes. La caja de ultimate (que representa el rango de los cuartiles, Q1 a Q3) está más arriba, lo que refuerza la idea de un mayor uso promedio. El plan surf muestra una dispersión más amplia (la caja y los bigotes son más largos), lo que indica que hay más variación mensual entre los usuarios de ese plan. En cambio, ultimate tiene una distribución más concentrada, especialmente en el rango de los cuartiles, lo que sugiere un uso más consistente entre sus usuarios.*"
   ]
  },
  {
   "cell_type": "markdown",
   "metadata": {
    "id": "8idKy8Wh0q1L"
   },
   "source": [
    "### Mensajes"
   ]
  },
  {
   "cell_type": "code",
   "execution_count": 35,
   "metadata": {
    "id": "NXLxiTit0q1L"
   },
   "outputs": [],
   "source": [
    "# Comprara el número de mensajes que tienden a enviar cada mes los usuarios de cada plan\n",
    "\n",
    "mensajes_surf = (\n",
    "    df_costos_mensuales[df_costos_mensuales[\"plan\"] == \"surf\"]\n",
    "    .groupby([\"user_id\", \"mes\"], as_index=False)[\"total_mensajes\"]\n",
    "    .sum()\n",
    ")\n",
    "mensajes_ultimate = (\n",
    "    df_costos_mensuales[df_costos_mensuales[\"plan\"] == \"ultimate\"]\n",
    "    .groupby([\"user_id\", \"mes\"], as_index=False)[\"total_mensajes\"]\n",
    "    .sum()\n",
    ")\n"
   ]
  },
  {
   "cell_type": "code",
   "execution_count": 36,
   "metadata": {
    "id": "GRI_R7xF0q1L"
   },
   "outputs": [
    {
     "data": {
      "image/png": "[encoded data removed]",
      "text/plain": [
       "<Figure size 1200x600 with 1 Axes>"
      ]
     },
     "metadata": {},
     "output_type": "display_data"
    }
   ],
   "source": [
    "# Compara la cantidad de tráfico de Internet consumido por usuarios por plan\n",
    "mensajes_surf = (\n",
    "    df_costos_mensuales[df_costos_mensuales[\"plan\"] == \"surf\"]\n",
    "    .groupby([\"user_id\", \"mes\"], as_index=False)[\"total_mensajes\"]\n",
    "    .sum()\n",
    ")\n",
    "mensajes_ultimate = (\n",
    "    df_costos_mensuales[df_costos_mensuales[\"plan\"] == \"ultimate\"]\n",
    "    .groupby([\"user_id\", \"mes\"], as_index=False)[\"total_mensajes\"]\n",
    "    .sum()\n",
    ")\n",
    "\n",
    "# Ordena los DataFrames por mes.\n",
    "mensajes_surf[\"mes\"] = pd.Categorical(mensajes_surf[\"mes\"], categories=meses_ordenados, ordered=True)\n",
    "mensajes_surf = mensajes_surf.sort_values(\"mes\")\n",
    "mensajes_ultimate[\"mes\"] = pd.Categorical(mensajes_ultimate[\"mes\"], categories=meses_ordenados, ordered=True)\n",
    "mensajes_ultimate = mensajes_ultimate.sort_values(\"mes\")\n",
    "\n",
    "# Crea el gráfico.\n",
    "plt.figure(figsize=(12, 6))\n",
    "plt.bar(mensajes_surf[\"mes\"], mensajes_surf[\"total_mensajes\"], width=0.2, label=\"surf\")\n",
    "plt.bar(mensajes_ultimate[\"mes\"], mensajes_ultimate[\"total_mensajes\"], width=0.2, label=\"ultimate\", align=\"edge\")\n",
    "plt.xlabel(\"Mes\")\n",
    "plt.ylabel(\"Total mensajes\")\n",
    "plt.title(\"Comparación de mensajes por mes para los planes Surf y Ultimate\")\n",
    "plt.legend(title=\"Planes\")\n",
    "plt.show()\n"
   ]
  },
  {
   "cell_type": "markdown",
   "metadata": {
    "id": "390SSL480q1M"
   },
   "source": [
    "[Elabora las conclusiones sobre el comportamiento de los usuarios con respecto a los mensajes. ¿Su comportamiento varía en función del plan?]\n",
    "\n",
    "*A lo largo de casi todo el año, los usuarios del plan surf enviaron más mensajes que los del plan ultimate. La diferencia se vuelve especialmente clara en los últimos meses del año (Octubre a Diciembre), donde el uso de mensajes en el plan Surf crece significativamente. Para ambos planes, el número de mensajes aumenta progresivamente con el tiempo, sin embargo, este crecimiento es más pronunciado en el plan surf.*"
   ]
  },
  {
   "cell_type": "markdown",
   "metadata": {
    "id": "42YSypXz0q1M"
   },
   "source": [
    "### Internet"
   ]
  },
  {
   "cell_type": "code",
   "execution_count": 37,
   "metadata": {
    "id": "lSuKPtjh0q1M"
   },
   "outputs": [
    {
     "data": {
      "image/png": "[encoded data removed]",
      "text/plain": [
       "<Figure size 1200x600 with 1 Axes>"
      ]
     },
     "metadata": {},
     "output_type": "display_data"
    }
   ],
   "source": [
    "# Internet consumido del plan surf.\n",
    "internet_surf = (\n",
    "    df_costos_mensuales[df_costos_mensuales[\"plan\"] == \"surf\"]\n",
    "    .groupby([\"user_id\", \"mes\"], as_index=False)[\"total_gb\"]\n",
    "    .sum()\n",
    ")\n",
    "# Internet consumido del plan ultimate.\n",
    "internet_ultimate = (\n",
    "    df_costos_mensuales[df_costos_mensuales[\"plan\"] == \"ultimate\"]\n",
    "    .groupby([\"user_id\", \"mes\"], as_index=False)[\"total_gb\"]\n",
    "    .sum()\n",
    ")\n",
    "\n",
    "# Ordena los DataFrames por mes.\n",
    "internet_surf[\"mes\"] = pd.Categorical(internet_surf[\"mes\"], categories=meses_ordenados, ordered=True)\n",
    "internet_ultimate[\"mes\"] = pd.Categorical(internet_ultimate[\"mes\"], categories=meses_ordenados, ordered=True)\n",
    "internet_surf = internet_surf.sort_values(\"mes\")\n",
    "internet_ultimate = internet_ultimate.sort_values(\"mes\")\n",
    "\n",
    "# Crea el gráfico.\n",
    "plt.figure(figsize=(12, 6))\n",
    "plt.bar(internet_surf[\"mes\"], internet_surf[\"total_gb\"], width=0.2, label=\"surf\")\n",
    "plt.bar(internet_ultimate[\"mes\"], internet_ultimate[\"total_gb\"], width=0.2, label=\"ultimate\", align=\"edge\")\n",
    "plt.xlabel(\"Mes\")\n",
    "plt.ylabel(\"Consumo de internet (MB)\")\n",
    "plt.title(\"Comparación de consumo de internet por mes para los planes Surf y Ultimate\")\n",
    "plt.legend(title=\"Planes\")\n",
    "plt.show()"
   ]
  },
  {
   "cell_type": "markdown",
   "metadata": {
    "id": "UN9zwuMP0q1N"
   },
   "source": [
    "[Elabora las conclusiones sobre cómo los usuarios tienden a consumir el tráfico de Internet. ¿Su comportamiento varía en función del plan?]\n",
    "\n",
    "*Ambos planes muestran un aumento progresivo en el consumo de internet conforme avanza el año. El plan ultimate presenta un consumo más alto que surf la mayor parte del año, a excepción de los meses de Agosto y Diciembre, en donde el plan surf muestra un aumento considerable ante el ultimate.*"
   ]
  },
  {
   "cell_type": "markdown",
   "metadata": {
    "id": "tCijq3260q1N"
   },
   "source": [
    "## Ingreso"
   ]
  },
  {
   "cell_type": "markdown",
   "metadata": {
    "id": "9nq5IAcy0q1O"
   },
   "source": [
    "[Del mismo modo que has estudiado el comportamiento de los usuarios, describe estadísticamente los ingresos de los planes.]"
   ]
  },
  {
   "cell_type": "code",
   "execution_count": 38,
   "metadata": {
    "id": "tz-dq_V00q1O"
   },
   "outputs": [
    {
     "data": {
      "image/png": "[encoded data removed]",
      "text/plain": [
       "<Figure size 1200x600 with 1 Axes>"
      ]
     },
     "metadata": {},
     "output_type": "display_data"
    }
   ],
   "source": [
    "# Ingresos por usuarios por mes del plan surf.\n",
    "ingresos_surf = (\n",
    "    df_costos_mensuales[df_costos_mensuales[\"plan\"] == \"surf\"]\n",
    "    .groupby([\"user_id\", \"mes\"], as_index=False)[\"costo_total\"]\n",
    "    .sum()\n",
    ")\n",
    "\n",
    "# Ingresos por usuarios por mes del plan ultimate.\n",
    "ingresos_ultimate = (\n",
    "    df_costos_mensuales[df_costos_mensuales[\"plan\"] == \"ultimate\"]\n",
    "    .groupby([\"user_id\", \"mes\"], as_index=False)[\"costo_total\"]\n",
    "    .sum()\n",
    ")\n",
    "\n",
    "# Ordena los DataFrames por mes.\n",
    "ingresos_surf[\"mes\"] = pd.Categorical(ingresos_surf[\"mes\"], categories=meses_ordenados, ordered=True)\n",
    "ingresos_ultimate[\"mes\"] = pd.Categorical(ingresos_ultimate[\"mes\"], categories=meses_ordenados, ordered=True)\n",
    "ingresos_surf = ingresos_surf.sort_values(\"mes\")\n",
    "ingresos_ultimate = ingresos_ultimate.sort_values(\"mes\")\n",
    "\n",
    "# Crea el gráfico.\n",
    "plt.figure(figsize=(12, 6))\n",
    "plt.bar(ingresos_surf[\"mes\"], ingresos_surf[\"costo_total\"], width=0.2, label=\"surf\")\n",
    "plt.bar(ingresos_ultimate[\"mes\"], ingresos_ultimate[\"costo_total\"], width=0.2, label=\"ultimate\", align=\"edge\")\n",
    "plt.xlabel(\"Mes\")\n",
    "plt.ylabel(\"Costo total\")\n",
    "plt.title(\"Comparación de costos por mes para los planes Surf y Ultimate\")\n",
    "plt.legend(title=\"Planes\")\n",
    "plt.show()"
   ]
  },
  {
   "cell_type": "markdown",
   "metadata": {},
   "source": [
    "<div class=\"alert alert-block alert-success\">\n",
    "<b>Comentario revisor</b> <a class=\"tocSkip\"></a>\n",
    "\n",
    " Muy buena prática la de usar distintos tipos de gráficas identificar algunos hallazgos y llegar a conclusiones\n",
    "</div>"
   ]
  },
  {
   "cell_type": "markdown",
   "metadata": {
    "id": "KAFidcXZ0q1P"
   },
   "source": [
    "[Elabora las conclusiones sobre cómo difiere el ingreso entre los planes.]\n",
    "\n",
    "*Los resultados muestran un mayor costo para los usuarios del plan surf. Ambos planes tienen una tendencia creciente de costos conforme avanzan los meses del año, siendo más notable para el plan surf. Esto podría indicar que a pesar de la diferencia de precio entre un plan y otro, a la larga, el plan ultimate puede resultar más económico en cuestión de llamadas, mensajes y mb consumidos por los usuarios.*"
   ]
  },
  {
   "cell_type": "markdown",
   "metadata": {
    "id": "ajJ7VKeI0q1Q"
   },
   "source": [
    "## Prueba las hipótesis estadísticas"
   ]
  },
  {
   "cell_type": "markdown",
   "metadata": {
    "id": "AdXAZ-yL0q1Q"
   },
   "source": [
    "[Prueba la hipótesis de que son diferentes los ingresos promedio procedentes de los usuarios de los planes de llamada Ultimate y Surf.]"
   ]
  },
  {
   "cell_type": "markdown",
   "metadata": {
    "id": "IQwa_hsh0q1Q"
   },
   "source": [
    "[Elabora las hipótesis nula y alternativa, escoge la prueba estadística, determina el valor alfa.]"
   ]
  },
  {
   "cell_type": "code",
   "execution_count": 39,
   "metadata": {
    "id": "nFoPNlPq0q1R"
   },
   "outputs": [
    {
     "name": "stdout",
     "output_type": "stream",
     "text": [
      "H0: Los ingresos promedio de los planes Surf y Ultimate son iguales.\n",
      "H1: Los ingresos promedio de los planes Surf y Ultimate son diferentes.\n",
      "Nivel de significancia (α): 0.05\n",
      "\n",
      "Estadístico t: -230.87881296872476\n",
      "Valor p: 0.0\n",
      "Rechazamos H0: Hay una diferencia significativa entre los ingresos promedio de los planes.\n"
     ]
    }
   ],
   "source": [
    "# Prueba las hipótesis\n",
    "\n",
    "# Extrae los ingresos.\n",
    "surf_ingresos = ingresos_surf[\"costo_total\"]\n",
    "ultimate_ingresos = ingresos_ultimate[\"costo_total\"]\n",
    "\n",
    "# Definición de las hipótesis.\n",
    "print(\"H0: Los ingresos promedio de los planes Surf y Ultimate son iguales.\")\n",
    "print(\"H1: Los ingresos promedio de los planes Surf y Ultimate son diferentes.\")\n",
    "\n",
    "# Nivel de significancia.\n",
    "alpha = 0.05\n",
    "print(f\"Nivel de significancia (α): {alpha}\")\n",
    "\n",
    "# Realiza la prueba t (Welch's t-test, no se asumen varianzas iguales).\n",
    "t_stat, p_value = ttest_ind(surf_ingresos, ultimate_ingresos, equal_var=False)\n",
    "\n",
    "# Muestra los resultados.\n",
    "print(f\"\\nEstadístico t: {t_stat}\")\n",
    "print(f\"Valor p: {p_value}\")\n",
    "\n",
    "# Conclusión.\n",
    "if p_value < alpha:\n",
    "    print(\"Rechazamos H0: Hay una diferencia significativa entre los ingresos promedio de los planes.\")\n",
    "else:\n",
    "    print(\"No se puede rechazar H0: No hay evidencia suficiente para decir que los ingresos son diferentes.\")"
   ]
  },
  {
   "cell_type": "markdown",
   "metadata": {
    "id": "tCcAruM60q1R"
   },
   "source": [
    "[Prueba la hipótesis de que el ingreso promedio de los usuarios del área NY-NJ es diferente al de los usuarios de otras regiones.]"
   ]
  },
  {
   "cell_type": "markdown",
   "metadata": {
    "id": "LsBgitqj0q1R"
   },
   "source": [
    "[Elabora las hipótesis nula y alternativa, escoge la prueba estadística, determina el valor alfa.]"
   ]
  },
  {
   "cell_type": "code",
   "execution_count": 40,
   "metadata": {
    "id": "Cqcj7wrZ0q1S"
   },
   "outputs": [
    {
     "name": "stdout",
     "output_type": "stream",
     "text": [
      "NY-NJ:\n",
      "  Media: 176.86\n",
      "  Desviación estándar: 141.84\n",
      "Otras regiones:\n",
      "  Media: 209.21\n",
      "  Desviación estándar: 177.99\n",
      "\n",
      "t = -1.596\n",
      "p-value = 0.1135\n",
      "\n",
      "No se rechaza la hipótesis nula: no hay evidencia suficiente para decir que los ingresos promedio son diferentes.\n"
     ]
    }
   ],
   "source": [
    "# Prueba las hipótesis\n",
    "costos_por_region = pd.merge(\n",
    "    df_costos_mensuales[[\"user_id\", \"costo_total\"]], df_usuarios[[\"user_id\", \"city\"]], on=\"user_id\"\n",
    ")\n",
    "costos_por_region = costos_por_region.groupby([\"user_id\", \"city\"], as_index=False)[\"costo_total\"].sum()\n",
    "\n",
    "# Costos por usuario del área de NY-NJ.\n",
    "costos_ny_nj = costos_por_region[costos_por_region[\"city\"] == \"New York-Newark-Jersey City, NY-NJ-PA MSA\"]\n",
    "\n",
    "# Costos por usuario de otras regiones.\n",
    "costos_otras_regiones = costos_por_region[costos_por_region[\"city\"] != \"New York-Newark-Jersey City, NY-NJ-PA MSA\"]\n",
    "\n",
    "\n",
    "# Prueba las hipótesis\n",
    "\n",
    "\n",
    "# Nivel de significancia.\n",
    "alpha = 0.05\n",
    "\n",
    "# Prueba t de Welch.\n",
    "stat, p_value = ttest_ind(\n",
    "    costos_ny_nj[\"costo_total\"], costos_otras_regiones[\"costo_total\"], equal_var=False  # Welch's t-test\n",
    ")\n",
    "\n",
    "# Estadísticas descriptivas.\n",
    "media_ny = costos_ny_nj[\"costo_total\"].mean()\n",
    "std_ny = costos_ny_nj[\"costo_total\"].std()\n",
    "\n",
    "media_otras = costos_otras_regiones[\"costo_total\"].mean()\n",
    "std_otras = costos_otras_regiones[\"costo_total\"].std()\n",
    "\n",
    "print(\"NY-NJ:\")\n",
    "print(f\"  Media: {media_ny:.2f}\")\n",
    "print(f\"  Desviación estándar: {std_ny:.2f}\")\n",
    "\n",
    "print(\"Otras regiones:\")\n",
    "print(f\"  Media: {media_otras:.2f}\")\n",
    "print(f\"  Desviación estándar: {std_otras:.2f}\")\n",
    "\n",
    "print(f\"\\nt = {stat:.3f}\")\n",
    "print(f\"p-value = {p_value:.4f}\")\n",
    "\n",
    "# Conclusión.\n",
    "if p_value < alpha:\n",
    "    print(\"\\nRechazamos la hipótesis nula: hay evidencia de que los ingresos promedio son diferentes.\")\n",
    "else:\n",
    "    print(\n",
    "        \"\\nNo se rechaza la hipótesis nula: no hay evidencia suficiente para decir que los ingresos promedio son diferentes.\"\n",
    "    )"
   ]
  },
  {
   "cell_type": "markdown",
   "metadata": {},
   "source": [
    "<div class=\"alert alert-block alert-success\">\n",
    "<b>Comentario revisor</b> <a class=\"tocSkip\"></a>\n",
    "\n",
    "Excelente trabajo con el desarrollo de las pruebas de hipótesis. Solamente en futuras ocasiones te recomiendo considerar realizar la prueba de levene para mostrar el supuesto de varianzas iguales. "
   ]
  },
  {
   "cell_type": "markdown",
   "metadata": {
    "id": "bbTR8UQO0q1T"
   },
   "source": [
    "## Conclusión general\n",
    "\n",
    "[En esta sección final, enumera tus conclusiones importantes. Asegúrate de que estas abarquen todas las decisiones (suposiciones) importantes que adoptaste y que determinaron la forma elegida para procesar y analizar los datos.]\n",
    "\n",
    "* El plan ultimate es más económico para usuarios que usan muchos datos y mensajes regularmente.\n",
    "* Pese a que el plan surf puede parecer más barato, si el usuario excede lo incluido, puede subir el costo significativamente.\n",
    "* Si el uso del cliente es alto y constante, ultimate es más conveniente.\n",
    "* Si el usuario apenas usa servicios, surf puede funcionar, pero con riesgo de sobrecostos."
   ]
  }
 ],
 "metadata": {
  "ExecuteTimeLog": [
   {
    "duration": 828,
    "start_time": "2021-11-16T09:21:11.304Z"
   },
   {
    "duration": 893,
    "start_time": "2021-11-16T09:21:17.728Z"
   },
   {
    "duration": 1150,
    "start_time": "2021-11-16T09:21:29.568Z"
   },
   {
    "duration": 3,
    "start_time": "2021-11-16T09:24:14.495Z"
   },
   {
    "duration": 120,
    "start_time": "2021-11-16T09:24:46.630Z"
   },
   {
    "duration": 3,
    "start_time": "2021-11-16T09:28:27.882Z"
   },
   {
    "duration": 4,
    "start_time": "2021-11-16T09:29:54.281Z"
   },
   {
    "duration": 3,
    "start_time": "2021-11-16T09:30:45.936Z"
   },
   {
    "duration": 4,
    "start_time": "2021-11-16T09:31:06.300Z"
   },
   {
    "duration": 113,
    "start_time": "2021-11-16T09:31:37.208Z"
   },
   {
    "duration": 143,
    "start_time": "2021-11-16T09:31:48.656Z"
   },
   {
    "duration": 98,
    "start_time": "2021-11-16T09:31:55.678Z"
   },
   {
    "duration": 3,
    "start_time": "2021-11-16T09:32:08.535Z"
   },
   {
    "duration": 111,
    "start_time": "2021-11-16T09:32:10.120Z"
   },
   {
    "duration": 3,
    "start_time": "2021-11-16T09:32:15.732Z"
   },
   {
    "duration": 4,
    "start_time": "2021-11-16T09:32:29.423Z"
   },
   {
    "duration": 3,
    "start_time": "2021-11-16T10:03:03.074Z"
   },
   {
    "duration": 3,
    "start_time": "2021-11-16T10:10:01.288Z"
   },
   {
    "duration": 3,
    "start_time": "2021-11-16T10:10:46.923Z"
   },
   {
    "duration": 121,
    "start_time": "2021-11-16T10:37:46.494Z"
   },
   {
    "duration": 125,
    "start_time": "2021-11-16T10:38:20.632Z"
   },
   {
    "duration": 112,
    "start_time": "2021-11-16T10:46:53.001Z"
   },
   {
    "duration": 110,
    "start_time": "2021-11-16T10:48:25.775Z"
   },
   {
    "duration": 3,
    "start_time": "2021-11-16T10:50:18.720Z"
   },
   {
    "duration": 4,
    "start_time": "2021-11-16T10:50:37.649Z"
   },
   {
    "duration": 2,
    "start_time": "2021-11-16T10:50:51.884Z"
   },
   {
    "duration": 3,
    "start_time": "2021-11-16T10:51:56.237Z"
   },
   {
    "duration": 101,
    "start_time": "2021-11-16T10:53:13.791Z"
   },
   {
    "duration": 3,
    "start_time": "2021-11-16T10:55:59.186Z"
   },
   {
    "duration": 3,
    "start_time": "2021-11-16T10:56:10.751Z"
   },
   {
    "duration": 3,
    "start_time": "2021-11-16T10:56:49.038Z"
   },
   {
    "duration": 3,
    "start_time": "2021-11-16T10:56:49.174Z"
   },
   {
    "duration": 4,
    "start_time": "2021-11-16T10:56:49.414Z"
   },
   {
    "duration": 3,
    "start_time": "2021-11-16T10:56:49.680Z"
   },
   {
    "duration": 3,
    "start_time": "2021-11-16T10:56:50.370Z"
   },
   {
    "duration": 114,
    "start_time": "2021-11-16T10:59:34.518Z"
   },
   {
    "duration": 3,
    "start_time": "2021-11-16T11:01:41.201Z"
   },
   {
    "duration": 116,
    "start_time": "2021-11-16T11:01:48.754Z"
   },
   {
    "duration": 3,
    "start_time": "2021-11-16T11:02:16.685Z"
   },
   {
    "duration": 3,
    "start_time": "2021-11-16T11:02:19.479Z"
   },
   {
    "duration": 3,
    "start_time": "2021-11-16T11:02:47.067Z"
   },
   {
    "duration": 3,
    "start_time": "2021-11-16T11:02:49.353Z"
   },
   {
    "duration": 3,
    "start_time": "2021-11-16T11:03:07.835Z"
   },
   {
    "duration": 3,
    "start_time": "2021-11-16T11:03:07.953Z"
   },
   {
    "duration": 112,
    "start_time": "2021-11-16T11:07:52.072Z"
   },
   {
    "duration": 187,
    "start_time": "2021-11-16T11:09:23.468Z"
   },
   {
    "duration": 4,
    "start_time": "2021-11-16T11:10:01.455Z"
   },
   {
    "duration": 3,
    "start_time": "2021-11-16T11:10:05.069Z"
   },
   {
    "duration": 4,
    "start_time": "2021-11-16T11:10:13.376Z"
   },
   {
    "duration": 3,
    "start_time": "2021-11-16T11:10:14.434Z"
   },
   {
    "duration": 3,
    "start_time": "2021-11-16T11:10:22.853Z"
   },
   {
    "duration": 4,
    "start_time": "2021-11-16T11:27:29.279Z"
   },
   {
    "duration": 4,
    "start_time": "2021-11-16T11:29:08.919Z"
   },
   {
    "duration": 118,
    "start_time": "2021-11-16T11:29:46.703Z"
   },
   {
    "duration": 437,
    "start_time": "2021-11-16T11:36:02.181Z"
   },
   {
    "duration": 157,
    "start_time": "2021-11-16T11:36:14.388Z"
   },
   {
    "duration": 207,
    "start_time": "2021-11-16T11:47:15.898Z"
   },
   {
    "duration": 3,
    "start_time": "2021-11-16T11:53:52.092Z"
   },
   {
    "duration": 3,
    "start_time": "2021-11-16T11:53:52.236Z"
   },
   {
    "duration": 3,
    "start_time": "2021-11-16T11:59:12.005Z"
   },
   {
    "duration": 112,
    "start_time": "2021-11-16T12:00:33.446Z"
   },
   {
    "duration": 3,
    "start_time": "2021-11-16T12:02:14.453Z"
   },
   {
    "duration": 3,
    "start_time": "2021-11-16T12:02:39.512Z"
   },
   {
    "duration": 106,
    "start_time": "2021-11-16T12:03:03.460Z"
   },
   {
    "duration": 3,
    "start_time": "2021-11-17T20:37:21.139Z"
   },
   {
    "duration": 3,
    "start_time": "2021-11-17T20:37:22.229Z"
   },
   {
    "duration": 3,
    "start_time": "2021-11-17T20:38:38.806Z"
   },
   {
    "duration": 3,
    "start_time": "2021-11-17T20:38:41.958Z"
   },
   {
    "duration": 3,
    "start_time": "2021-11-17T20:43:46.551Z"
   },
   {
    "duration": 4,
    "start_time": "2021-11-17T20:58:21.835Z"
   },
   {
    "duration": 3,
    "start_time": "2021-11-17T20:59:21.872Z"
   },
   {
    "duration": 4,
    "start_time": "2021-11-17T20:59:45.352Z"
   },
   {
    "duration": 4,
    "start_time": "2021-11-17T20:59:49.646Z"
   },
   {
    "duration": 159,
    "start_time": "2021-11-17T21:02:26.949Z"
   },
   {
    "duration": 3,
    "start_time": "2021-11-17T21:03:53.461Z"
   },
   {
    "duration": 3,
    "start_time": "2021-11-17T21:03:53.694Z"
   },
   {
    "duration": 3,
    "start_time": "2021-11-17T21:05:28.145Z"
   },
   {
    "duration": 116,
    "start_time": "2021-11-17T21:05:57.787Z"
   },
   {
    "duration": 3,
    "start_time": "2021-11-17T21:06:37.993Z"
   },
   {
    "duration": 3,
    "start_time": "2021-11-17T21:06:38.261Z"
   },
   {
    "duration": 3,
    "start_time": "2021-11-17T21:11:54.358Z"
   },
   {
    "duration": 3,
    "start_time": "2021-11-17T21:12:43.846Z"
   },
   {
    "duration": 4,
    "start_time": "2021-11-17T21:13:08.773Z"
   },
   {
    "duration": 3,
    "start_time": "2021-11-17T21:14:44.441Z"
   },
   {
    "duration": 3,
    "start_time": "2021-11-17T21:15:42.059Z"
   },
   {
    "duration": 4,
    "start_time": "2021-11-17T21:15:51.995Z"
   },
   {
    "duration": 3,
    "start_time": "2021-11-17T21:15:53.923Z"
   },
   {
    "duration": 3,
    "start_time": "2021-11-17T21:15:55.282Z"
   },
   {
    "duration": 3,
    "start_time": "2021-11-17T21:16:28.492Z"
   },
   {
    "duration": 3,
    "start_time": "2021-11-17T21:16:32.603Z"
   },
   {
    "duration": 3,
    "start_time": "2021-11-17T21:17:06.941Z"
   },
   {
    "duration": 98,
    "start_time": "2021-11-17T21:18:05.733Z"
   },
   {
    "duration": 4,
    "start_time": "2021-11-17T21:21:35.255Z"
   },
   {
    "duration": 3,
    "start_time": "2021-11-17T21:21:37.804Z"
   },
   {
    "duration": 4,
    "start_time": "2021-11-17T21:23:06.071Z"
   },
   {
    "duration": 3,
    "start_time": "2021-11-17T21:23:24.799Z"
   },
   {
    "duration": 3,
    "start_time": "2021-11-17T21:23:32.591Z"
   },
   {
    "duration": 98,
    "start_time": "2021-11-17T21:28:31.559Z"
   },
   {
    "duration": 3,
    "start_time": "2021-11-17T21:28:45.448Z"
   },
   {
    "duration": 3,
    "start_time": "2021-11-17T21:29:17.303Z"
   },
   {
    "duration": 3,
    "start_time": "2021-11-17T21:29:29.617Z"
   },
   {
    "duration": 3,
    "start_time": "2021-11-17T21:29:32.681Z"
   },
   {
    "duration": 3,
    "start_time": "2021-11-17T21:36:11.474Z"
   },
   {
    "duration": 3,
    "start_time": "2021-11-17T21:36:14.791Z"
   },
   {
    "duration": 3,
    "start_time": "2021-11-17T21:36:53.943Z"
   },
   {
    "duration": 3,
    "start_time": "2021-11-17T21:36:56.165Z"
   },
   {
    "duration": 4,
    "start_time": "2021-11-17T21:37:16.590Z"
   },
   {
    "duration": 3,
    "start_time": "2021-11-17T21:37:22.702Z"
   },
   {
    "duration": 4,
    "start_time": "2021-11-17T21:38:03.479Z"
   },
   {
    "duration": 3,
    "start_time": "2021-11-17T21:38:08.601Z"
   },
   {
    "duration": 3,
    "start_time": "2021-11-17T21:38:12.928Z"
   },
   {
    "duration": 3,
    "start_time": "2021-11-17T21:38:48.896Z"
   },
   {
    "duration": 2,
    "start_time": "2021-11-17T21:38:49.171Z"
   },
   {
    "duration": 4,
    "start_time": "2021-11-17T21:39:57.889Z"
   },
   {
    "duration": 3,
    "start_time": "2021-11-17T21:39:58.057Z"
   },
   {
    "duration": 3,
    "start_time": "2021-11-17T21:41:20.108Z"
   },
   {
    "duration": 3,
    "start_time": "2021-11-17T21:41:20.629Z"
   },
   {
    "duration": 3,
    "start_time": "2021-11-17T21:42:49.136Z"
   },
   {
    "duration": 3,
    "start_time": "2021-11-17T21:43:15.137Z"
   },
   {
    "duration": 4,
    "start_time": "2021-11-17T21:43:16.766Z"
   },
   {
    "duration": 4,
    "start_time": "2021-11-17T21:43:31.711Z"
   },
   {
    "duration": 3,
    "start_time": "2021-11-17T21:43:36.312Z"
   },
   {
    "duration": 4,
    "start_time": "2021-11-17T21:45:08.825Z"
   },
   {
    "duration": 4,
    "start_time": "2021-11-17T21:45:10.119Z"
   },
   {
    "duration": 4,
    "start_time": "2021-11-17T21:45:13.748Z"
   },
   {
    "duration": 3,
    "start_time": "2021-11-17T21:45:22.219Z"
   },
   {
    "duration": 3,
    "start_time": "2021-11-17T21:45:33.412Z"
   },
   {
    "duration": 2,
    "start_time": "2021-11-17T21:46:01.885Z"
   },
   {
    "duration": 3,
    "start_time": "2021-11-17T21:46:03.628Z"
   },
   {
    "duration": 107,
    "start_time": "2021-11-17T21:47:32.512Z"
   },
   {
    "duration": 103,
    "start_time": "2021-11-17T21:50:36.243Z"
   },
   {
    "duration": 3,
    "start_time": "2021-11-18T06:28:31.440Z"
   },
   {
    "duration": 3,
    "start_time": "2021-11-18T06:29:00.168Z"
   },
   {
    "duration": 3,
    "start_time": "2021-11-18T06:31:27.008Z"
   },
   {
    "duration": 2,
    "start_time": "2021-11-18T06:35:34.288Z"
   },
   {
    "duration": 2,
    "start_time": "2021-11-18T06:38:04.527Z"
   }
  ],
  "colab": {
   "provenance": []
  },
  "kernelspec": {
   "display_name": "Python 3 (ipykernel)",
   "language": "python",
   "name": "python3"
  },
  "language_info": {
   "codemirror_mode": {
    "name": "ipython",
    "version": 3
   },
   "file_extension": ".py",
   "mimetype": "text/x-python",
   "name": "python",
   "nbconvert_exporter": "python",
   "pygments_lexer": "ipython3",
   "version": "3.9.22"
  },
  "toc": {
   "base_numbering": 1,
   "nav_menu": {},
   "number_sections": true,
   "sideBar": true,
   "skip_h1_title": false,
   "title_cell": "Table of Contents",
   "title_sidebar": "Contents",
   "toc_cell": false,
   "toc_position": {},
   "toc_section_display": true,
   "toc_window_display": true
  }
 },
 "nbformat": 4,
 "nbformat_minor": 4
}
